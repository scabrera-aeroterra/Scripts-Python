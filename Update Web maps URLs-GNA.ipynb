{
 "cells": [
  {
   "cell_type": "code",
   "execution_count": null,
   "metadata": {
    "collapsed": true
   },
   "outputs": [],
   "source": [
    "from arcgis.gis import *\n",
    "from IPython.display import display\n",
    "from getpass import getpass"
   ]
  },
  {
   "cell_type": "code",
   "execution_count": null,
   "metadata": {
    "collapsed": true
   },
   "outputs": [],
   "source": [
    "user=input(\"Ingrese usuario:\")\n",
    "portalpassword = getpass()\n",
    "gis = GIS(\"https://gisportal.gna.gob.ar/portal\", user, portalpassword)"
   ]
  },
  {
   "cell_type": "markdown",
   "metadata": {},
   "source": [
    "Elegir usuario con el contenido aqui. En este caso se usa el usuario que se conectó arriba al Portal. Pero podría ser otro."
   ]
  },
  {
   "cell_type": "code",
   "execution_count": null,
   "metadata": {
    "collapsed": true
   },
   "outputs": [],
   "source": [
    "user=gis.users.me\n",
    "user"
   ]
  },
  {
   "cell_type": "markdown",
   "metadata": {},
   "source": [
    "Aquí se toman los items del usuario, recorriendo primero los items de la carpeta raíz del usuario (primer for), y luego se recorren los items de cada una de las carpetas del contenido del usuario (segundo for)"
   ]
  },
  {
   "cell_type": "code",
   "execution_count": null,
   "metadata": {
    "collapsed": true
   },
   "outputs": [],
   "source": [
    "items=user.items(max_items=2000)\n",
    "folders = user.folders\n",
    "print (\"============================================================================================\")\n",
    "print (\"Carpeta Raiz\")\n",
    "print (\"============================================================================================\")\n",
    "for item in items:\n",
    "    if item.type == \"Web Map\":\n",
    "        web_map_obj = arcgis.mapping.WebMap(item)\n",
    "        layers=web_map_obj['operationalLayers']\n",
    "        for layer in layers:\n",
    "            layer['url']=layer['url'].replace(\"gisportal.gna\",\"gisportal.gna.gob.ar\",1)\n",
    "        web_map_obj['operationalLayers']=layers\n",
    "        web_map_obj.update()\n",
    "for folder in folders:\n",
    "    print (\"============================================================================================\")\n",
    "    print (folder['title'])\n",
    "    print (\"============================================================================================\")\n",
    "    folderitems = user.items(folder=folder['title'],max_items=2000)\n",
    "    for item in folderitems:\n",
    "        if item.type == \"Web Map\":\n",
    "            web_map_obj = arcgis.mapping.WebMap(item)\n",
    "            layers=web_map_obj['operationalLayers']\n",
    "            for layer in layers:\n",
    "                layer['url']=layer['url'].replace(\"gisportal.gna\",\"gisportal.gna.gob.ar\",1)\n",
    "            web_map_obj['operationalLayers']=layers\n",
    "            web_map_obj.update()"
   ]
  }
 ],
 "metadata": {
  "kernelspec": {
   "display_name": "Python 3",
   "language": "python",
   "name": "python3"
  },
  "language_info": {
   "codemirror_mode": {
    "name": "ipython",
    "version": 3
   },
   "file_extension": ".py",
   "mimetype": "text/x-python",
   "name": "python",
   "nbconvert_exporter": "python",
   "pygments_lexer": "ipython3",
   "version": "3.6.1"
  }
 },
 "nbformat": 4,
 "nbformat_minor": 2
}
