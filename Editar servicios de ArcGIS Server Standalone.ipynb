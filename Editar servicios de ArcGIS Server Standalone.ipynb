{
 "cells": [
  {
   "cell_type": "code",
   "execution_count": 1,
   "metadata": {
    "collapsed": true
   },
   "outputs": [],
   "source": [
    "from arcgis.gis import server\n",
    "from IPython.display import display\n",
    "from getpass import getpass\n",
    "from time import *"
   ]
  },
  {
   "cell_type": "code",
   "execution_count": 2,
   "metadata": {},
   "outputs": [
    {
     "name": "stdout",
     "output_type": "stream",
     "text": [
      "Ingrese URL de REST admin:https://soluciones.aeroterra.com/server/admin\n",
      "Ingrese usuario administrador:admin\n",
      "Ingrese la contraseña de admin········\n"
     ]
    }
   ],
   "source": [
    "server_admin_url=input(\"Ingrese URL de REST admin:\")\n",
    "user=input(\"Ingrese usuario administrador:\")\n",
    "server_password = getpass(prompt=\"Ingrese la contraseña de \" + user)"
   ]
  },
  {
   "cell_type": "code",
   "execution_count": 3,
   "metadata": {},
   "outputs": [],
   "source": [
    "gisserver=server.Server(server_admin_url, username=user, password=server_password)"
   ]
  },
  {
   "cell_type": "code",
   "execution_count": 4,
   "metadata": {
    "collapsed": true
   },
   "outputs": [],
   "source": [
    "folderlist=gisserver.services.folders"
   ]
  },
  {
   "cell_type": "code",
   "execution_count": 5,
   "metadata": {},
   "outputs": [
    {
     "data": {
      "text/plain": [
       "['CABA_CartoBase',\n",
       " 'Hosted',\n",
       " 'LivingAtlas',\n",
       " 'OD_Ambiente',\n",
       " 'OD_Cultura_Turismo',\n",
       " 'OD_Economia',\n",
       " 'OD_Educacion',\n",
       " 'OD_Gobierno_Obras_Publicas',\n",
       " 'OD_Salud',\n",
       " 'OD_Seguridad',\n",
       " 'OD_Sociodemografico',\n",
       " 'OD_Transporte',\n",
       " 'System',\n",
       " 'Utilities',\n",
       " 'vsts',\n",
       " '/']"
      ]
     },
     "execution_count": 5,
     "metadata": {},
     "output_type": "execute_result"
    }
   ],
   "source": [
    "folderlist"
   ]
  },
  {
   "cell_type": "markdown",
   "metadata": {},
   "source": [
    "Modificar para manipular el servicio"
   ]
  },
  {
   "cell_type": "code",
   "execution_count": 6,
   "metadata": {},
   "outputs": [
    {
     "name": "stdout",
     "output_type": "stream",
     "text": [
      "CABA_CartoBase\n",
      "<Service at https://soluciones.aeroterra.com/server/admin/services/CABA_CartoBase/CABA_Puntos_De_Interes.MapServer>\n",
      "<Service at https://soluciones.aeroterra.com/server/admin/services/CABA_CartoBase/CABA_SUBTE.MapServer>\n",
      "Hosted ESTA CARPETA NO SE TOCA\n",
      "LivingAtlas\n",
      "<Service at https://soluciones.aeroterra.com/server/admin/services/LivingAtlas/AerodromosArgentina.MapServer>\n",
      "<Service at https://soluciones.aeroterra.com/server/admin/services/LivingAtlas/ARSAT_DistribucionTiempo.MapServer>\n",
      "<Service at https://soluciones.aeroterra.com/server/admin/services/LivingAtlas/BicicletasCABA.MapServer>\n",
      "<Service at https://soluciones.aeroterra.com/server/admin/services/LivingAtlas/CABA_DistritosEscolares.MapServer>\n",
      "<Service at https://soluciones.aeroterra.com/server/admin/services/LivingAtlas/Calidad_Conexion_Servicios.MapServer>\n",
      "<Service at https://soluciones.aeroterra.com/server/admin/services/LivingAtlas/HechosHurto.MapServer>\n",
      "<Service at https://soluciones.aeroterra.com/server/admin/services/LivingAtlas/MapaBicicletasCABA.MapServer>\n",
      "<Service at https://soluciones.aeroterra.com/server/admin/services/LivingAtlas/Promedio_Temperatura_Maxima_Mensual_30_Años.MapServer>\n",
      "<Service at https://soluciones.aeroterra.com/server/admin/services/LivingAtlas/Radio_Cobertura_ARSAT.MapServer>\n",
      "<Service at https://soluciones.aeroterra.com/server/admin/services/LivingAtlas/ServiciosSalud_CABA.MapServer>\n",
      "<Service at https://soluciones.aeroterra.com/server/admin/services/LivingAtlas/ServiciosSaludCABA.MapServer>\n",
      "<Service at https://soluciones.aeroterra.com/server/admin/services/LivingAtlas/SUBTE_RegistroMolinetes_201803.MapServer>\n",
      "<Service at https://soluciones.aeroterra.com/server/admin/services/LivingAtlas/YerbaMate_2015_2016.MapServer>\n",
      "OD_Ambiente\n",
      "<Service at https://soluciones.aeroterra.com/server/admin/services/OD_Ambiente/APN_LAPN2.MapServer>\n",
      "<Service at https://soluciones.aeroterra.com/server/admin/services/OD_Ambiente/APN_LocalizacionAreasProtegidasNacionales.MapServer>\n",
      "<Service at https://soluciones.aeroterra.com/server/admin/services/OD_Ambiente/CausaIncendiosForestales_Provincia_2016.MapServer>\n",
      "<Service at https://soluciones.aeroterra.com/server/admin/services/OD_Ambiente/sem_est2.MapServer>\n",
      "<Service at https://soluciones.aeroterra.com/server/admin/services/OD_Ambiente/SMN_Estaciones.MapServer>\n",
      "<Service at https://soluciones.aeroterra.com/server/admin/services/OD_Ambiente/SMN_EstadisticasTemperatura_JunDic2017.MapServer>\n",
      "<Service at https://soluciones.aeroterra.com/server/admin/services/OD_Ambiente/SMN_MediaMensualTempMaxima_1981_2010.MapServer>\n",
      "OD_Cultura_Turismo\n",
      "<Service at https://soluciones.aeroterra.com/server/admin/services/OD_Cultura_Turismo/Alojamientos_CABA.MapServer>\n",
      "<Service at https://soluciones.aeroterra.com/server/admin/services/OD_Cultura_Turismo/CantidadClubesBarriales_CABA.MapServer>\n",
      "<Service at https://soluciones.aeroterra.com/server/admin/services/OD_Cultura_Turismo/DependenciasCulturalesBarrio_CABA.MapServer>\n",
      "<Service at https://soluciones.aeroterra.com/server/admin/services/OD_Cultura_Turismo/SitiosReligiosos_CABA.MapServer>\n",
      "OD_Economia\n",
      "<Service at https://soluciones.aeroterra.com/server/admin/services/OD_Economia/CajerosAutomaticos_CABA.MapServer>\n",
      "<Service at https://soluciones.aeroterra.com/server/admin/services/OD_Economia/ConsesionesGobierno_CABA.MapServer>\n",
      "<Service at https://soluciones.aeroterra.com/server/admin/services/OD_Economia/EstimacionesAgricolas_ProvinciaBuenosAires_2017_2018.MapServer>\n",
      "<Service at https://soluciones.aeroterra.com/server/admin/services/OD_Economia/EstimacionesAgricolas_ProvnicaBuenosAires_2017_2018.MapServer>\n",
      "<Service at https://soluciones.aeroterra.com/server/admin/services/OD_Economia/ExtraccionForestal_Provincia_2015.MapServer>\n",
      "<Service at https://soluciones.aeroterra.com/server/admin/services/OD_Economia/InvForestalCortina_Dpto.MapServer>\n",
      "<Service at https://soluciones.aeroterra.com/server/admin/services/OD_Economia/InvForestalMacizo_Dpto.MapServer>\n",
      "<Service at https://soluciones.aeroterra.com/server/admin/services/OD_Economia/MINEM_EstacionesDeServicio.MapServer>\n",
      "<Service at https://soluciones.aeroterra.com/server/admin/services/OD_Economia/ProduccionSoja_2016_2017.MapServer>\n",
      "<Service at https://soluciones.aeroterra.com/server/admin/services/OD_Economia/ProduccionSorgo_2016_2017.MapServer>\n",
      "<Service at https://soluciones.aeroterra.com/server/admin/services/OD_Economia/ProduccionYerbaMate_2015_2016.MapServer>\n",
      "OD_Educacion\n",
      "<Service at https://soluciones.aeroterra.com/server/admin/services/OD_Educacion/AlumnosModComunSectEstatal_2014.MapServer>\n",
      "<Service at https://soluciones.aeroterra.com/server/admin/services/OD_Educacion/AlumnosModComunSectPrivado_2014.MapServer>\n",
      "<Service at https://soluciones.aeroterra.com/server/admin/services/OD_Educacion/Universidades_CABA.MapServer>\n",
      "OD_Gobierno_Obras_Publicas\n",
      "<Service at https://soluciones.aeroterra.com/server/admin/services/OD_Gobierno_Obras_Publicas/EDT_ARSAT.MapServer>\n",
      "<Service at https://soluciones.aeroterra.com/server/admin/services/OD_Gobierno_Obras_Publicas/PuntosDigitales.MapServer>\n",
      "<Service at https://soluciones.aeroterra.com/server/admin/services/OD_Gobierno_Obras_Publicas/TipoWIFIPublicoBarrio_CABA.MapServer>\n",
      "OD_Salud\n",
      "<Service at https://soluciones.aeroterra.com/server/admin/services/OD_Salud/PAMI_AgenciasUGL.MapServer>\n",
      "<Service at https://soluciones.aeroterra.com/server/admin/services/OD_Salud/PAMI_BocasAtencionPrestadores.MapServer>\n",
      "<Service at https://soluciones.aeroterra.com/server/admin/services/OD_Salud/ServiciosSalud_CABA.MapServer>\n",
      "<Service at https://soluciones.aeroterra.com/server/admin/services/OD_Salud/TasaAjustadaMortalidad_Provincia_2015.MapServer>\n",
      "<Service at https://soluciones.aeroterra.com/server/admin/services/OD_Salud/TasaBrutaMortalidad_Provincia_2015.MapServer>\n",
      "OD_Seguridad\n",
      "<Service at https://soluciones.aeroterra.com/server/admin/services/OD_Seguridad/GCBA_Mapa_del_Delito.MapServer>\n",
      "<Service at https://soluciones.aeroterra.com/server/admin/services/OD_Seguridad/SNIC_CantidadHurtos.MapServer>\n",
      "<Service at https://soluciones.aeroterra.com/server/admin/services/OD_Seguridad/SNIC_HechosRobo_2016.MapServer>\n",
      "<Service at https://soluciones.aeroterra.com/server/admin/services/OD_Seguridad/SNIC_VictimasHomicidioDoloso.MapServer>\n",
      "<Service at https://soluciones.aeroterra.com/server/admin/services/OD_Seguridad/SNIC_VictimasSiniestrosViales.MapServer>\n",
      "OD_Sociodemografico\n",
      "<Service at https://soluciones.aeroterra.com/server/admin/services/OD_Sociodemografico/CondicionActividad_Departamento.MapServer>\n",
      "<Service at https://soluciones.aeroterra.com/server/admin/services/OD_Sociodemografico/CondicionActividad_Provincia.MapServer>\n",
      "<Service at https://soluciones.aeroterra.com/server/admin/services/OD_Sociodemografico/EdadGrandesGrupos_Departamento.MapServer>\n",
      "<Service at https://soluciones.aeroterra.com/server/admin/services/OD_Sociodemografico/EdadGrandesGrupos_Provincia.MapServer>\n",
      "<Service at https://soluciones.aeroterra.com/server/admin/services/OD_Sociodemografico/RC_Chubut.MapServer>\n",
      "<Service at https://soluciones.aeroterra.com/server/admin/services/OD_Sociodemografico/RC_Cordoba.MapServer>\n",
      "<Service at https://soluciones.aeroterra.com/server/admin/services/OD_Sociodemografico/RC_EntreRios.MapServer>\n",
      "<Service at https://soluciones.aeroterra.com/server/admin/services/OD_Sociodemografico/RC_Rio_Negro.MapServer>\n",
      "OD_Transporte\n",
      "<Service at https://soluciones.aeroterra.com/server/admin/services/OD_Transporte/ANAC_Aerodromos.MapServer>\n",
      "<Service at https://soluciones.aeroterra.com/server/admin/services/OD_Transporte/Bicicleterias_CABA.MapServer>\n",
      "<Service at https://soluciones.aeroterra.com/server/admin/services/OD_Transporte/EstacionesMetrobus_CABA.MapServer>\n",
      "<Service at https://soluciones.aeroterra.com/server/admin/services/OD_Transporte/EstacionesSistemaTrenesArgentinos.MapServer>\n",
      "<Service at https://soluciones.aeroterra.com/server/admin/services/OD_Transporte/Red_Vial.MapServer>\n",
      "<Service at https://soluciones.aeroterra.com/server/admin/services/OD_Transporte/TDMA_2012.MapServer>\n",
      "System ESTA CARPETA NO SE TOCA\n",
      "Utilities ESTA CARPETA NO SE TOCA\n",
      "vsts\n",
      "<Service at https://soluciones.aeroterra.com/server/admin/services/vsts/vsts.MapServer>\n",
      "/\n",
      "<Service at https://soluciones.aeroterra.com/server/admin/services/AMBA_Red_FFCC.MapServer>\n",
      "<Service at https://soluciones.aeroterra.com/server/admin/services/Argentina_Población_Viviendas_Hogares.MapServer>\n",
      "<Service at https://soluciones.aeroterra.com/server/admin/services/CABA_LimitesAdministrativos.MapServer>\n",
      "<Service at https://soluciones.aeroterra.com/server/admin/services/CABA_Metrobus.MapServer>\n",
      "<Service at https://soluciones.aeroterra.com/server/admin/services/CABA_Premetro.MapServer>\n",
      "<Service at https://soluciones.aeroterra.com/server/admin/services/CalidadConexionServicios.MapServer>\n",
      "<Service at https://soluciones.aeroterra.com/server/admin/services/CPU_2017_CABA.MapServer>\n",
      "<Service at https://soluciones.aeroterra.com/server/admin/services/CPU_CABA_2017.MapServer>\n",
      "<Service at https://soluciones.aeroterra.com/server/admin/services/DEM_Esri.ImageServer>\n",
      "<Service at https://soluciones.aeroterra.com/server/admin/services/DEM_Esri2.ImageServer>\n",
      "<Service at https://soluciones.aeroterra.com/server/admin/services/DEM_Esri3.ImageServer>\n",
      "<Service at https://soluciones.aeroterra.com/server/admin/services/DEM_ESRI_MDS.ImageServer>\n",
      "<Service at https://soluciones.aeroterra.com/server/admin/services/EspaciosVerdes_CABA.MapServer>\n",
      "<Service at https://soluciones.aeroterra.com/server/admin/services/EstableciemintosEducativos_CABA.MapServer>\n",
      "<Service at https://soluciones.aeroterra.com/server/admin/services/Ferias_CABA.MapServer>\n",
      "<Service at https://soluciones.aeroterra.com/server/admin/services/GUA_Mapeo_CAI_F2.MapServer>\n",
      "<Service at https://soluciones.aeroterra.com/server/admin/services/HechosHurtoProvincia.MapServer>\n",
      "<Service at https://soluciones.aeroterra.com/server/admin/services/imatiff.MapServer>\n",
      "<Service at https://soluciones.aeroterra.com/server/admin/services/IMATIFF_2.ImageServer>\n",
      "<Service at https://soluciones.aeroterra.com/server/admin/services/L1_tif.MapServer>\n",
      "<Service at https://soluciones.aeroterra.com/server/admin/services/Map.MapServer>\n",
      "<Service at https://soluciones.aeroterra.com/server/admin/services/Map1.MapServer>\n",
      "<Service at https://soluciones.aeroterra.com/server/admin/services/Map2.MapServer>\n",
      "<Service at https://soluciones.aeroterra.com/server/admin/services/Metrobus_CABA.MapServer>\n",
      "<Service at https://soluciones.aeroterra.com/server/admin/services/Minas_en_gdbCAI_F2_AZ2_new.MapServer>\n",
      "<Service at https://soluciones.aeroterra.com/server/admin/services/Mosaico_VL_1998.MapServer>\n",
      "<Service at https://soluciones.aeroterra.com/server/admin/services/OpenData_SDE_Minas_en_gdbCAI_Pr_DOZ.MapServer>\n",
      "<Service at https://soluciones.aeroterra.com/server/admin/services/Pablo_Imagen_Copy_Ima.ImageServer>\n",
      "<Service at https://soluciones.aeroterra.com/server/admin/services/Paradas_Taxi_Colectivos.MapServer>\n",
      "<Service at https://soluciones.aeroterra.com/server/admin/services/Portland_DSM.ImageServer>\n",
      "<Service at https://soluciones.aeroterra.com/server/admin/services/Portland_DSM_copy.ImageServer>\n",
      "<Service at https://soluciones.aeroterra.com/server/admin/services/Portland_DSM_Tif.ImageServer>\n",
      "<Service at https://soluciones.aeroterra.com/server/admin/services/Prueba_Pablo.MapServer>\n",
      "<Service at https://soluciones.aeroterra.com/server/admin/services/Prueba_Pablo_Tile.MapServer>\n",
      "<Service at https://soluciones.aeroterra.com/server/admin/services/Radio_Censal.MapServer>\n",
      "<Service at https://soluciones.aeroterra.com/server/admin/services/SampleWorldCities.MapServer>\n",
      "<Service at https://soluciones.aeroterra.com/server/admin/services/ServicioconMD.MapServer>\n",
      "<Service at https://soluciones.aeroterra.com/server/admin/services/Temperatura_Maxima_Mensual_30_Años.MapServer>\n",
      "<Service at https://soluciones.aeroterra.com/server/admin/services/Tigre_2009_Continente.MapServer>\n",
      "<Service at https://soluciones.aeroterra.com/server/admin/services/Tigre_Imagen_2009.MapServer>\n",
      "<Service at https://soluciones.aeroterra.com/server/admin/services/Tigre_Imagen_2012.MapServer>\n",
      "<Service at https://soluciones.aeroterra.com/server/admin/services/Tigre_Imagen_2014.MapServer>\n",
      "<Service at https://soluciones.aeroterra.com/server/admin/services/VL_dengue_mapas.MapServer>\n",
      "<Service at https://soluciones.aeroterra.com/server/admin/services/VL_mosaico_cuadricula15.ImageServer>\n",
      "<Service at https://soluciones.aeroterra.com/server/admin/services/vsts.MapServer>\n"
     ]
    }
   ],
   "source": [
    "for folder in folderlist:\n",
    "    if ((folder != \"System\") and (folder != \"Utilities\") and (folder != \"Hosted\")):\n",
    "        print (folder)\n",
    "        servicelist=gisserver.services.list(folder=folder)\n",
    "        for service in servicelist:\n",
    "            print (service)\n",
    "           # properties=service.properties\n",
    "           # properties.minInstancesPerNode=0\n",
    "           # service.edit(dict(properties))\n",
    "    else:\n",
    "        print (folder + \" ESTA CARPETA NO SE TOCA\")\n",
    "    "
   ]
  },
  {
   "cell_type": "code",
   "execution_count": null,
   "metadata": {
    "collapsed": true
   },
   "outputs": [],
   "source": []
  }
 ],
 "metadata": {
  "kernelspec": {
   "display_name": "Python 3",
   "language": "python",
   "name": "python3"
  },
  "language_info": {
   "codemirror_mode": {
    "name": "ipython",
    "version": 3
   },
   "file_extension": ".py",
   "mimetype": "text/x-python",
   "name": "python",
   "nbconvert_exporter": "python",
   "pygments_lexer": "ipython3",
   "version": "3.6.1"
  }
 },
 "nbformat": 4,
 "nbformat_minor": 2
}
