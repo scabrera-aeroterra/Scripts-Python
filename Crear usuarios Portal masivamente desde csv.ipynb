{
 "cells": [
  {
   "cell_type": "code",
   "execution_count": 1,
   "metadata": {
    "collapsed": true
   },
   "outputs": [],
   "source": [
    "from arcgis.gis import *\n",
    "from getpass import getpass\n",
    "import csv"
   ]
  },
  {
   "cell_type": "code",
   "execution_count": 2,
   "metadata": {},
   "outputs": [
    {
     "name": "stdout",
     "output_type": "stream",
     "text": [
      "Ingrese URL de portal:https://soluciones.aeroterra.com/portal\n",
      "Ingrese usuario administrador:admin\n",
      "········\n"
     ]
    }
   ],
   "source": [
    "portalurl=input(\"Ingrese URL de portal:\")\n",
    "user=input(\"Ingrese usuario administrador:\")\n",
    "portalpassword = getpass()"
   ]
  },
  {
   "cell_type": "code",
   "execution_count": 3,
   "metadata": {
    "collapsed": true
   },
   "outputs": [],
   "source": [
    "gis = GIS(portalurl, user, portalpassword)"
   ]
  },
  {
   "cell_type": "code",
   "execution_count": 4,
   "metadata": {
    "collapsed": true
   },
   "outputs": [],
   "source": [
    "filename=\"users.csv\""
   ]
  },
  {
   "cell_type": "code",
   "execution_count": 28,
   "metadata": {},
   "outputs": [
    {
     "name": "stdout",
     "output_type": "stream",
     "text": [
      "Se creo el usuario tdonda\n",
      "Se creo el usuario scabrera\n"
     ]
    }
   ],
   "source": [
    "with open(filename,\"r\") as f:\n",
    "    reader = csv.reader(f,delimiter = \",\")\n",
    "    next(reader, None)\n",
    "    for fila in reader:\n",
    "        try:\n",
    "            gis.users.create(\n",
    "                username = fila[0],\n",
    "                firstname = fila[1],\n",
    "                password = \"\", #password = fila [2] si el usuario es built-in, se debe especificar, o contraseña generica\n",
    "                lastname = fila[2],\n",
    "                email = fila[3],\n",
    "                role = fila[4],\n",
    "                level = fila[5],\n",
    "                provider = fila[6],\n",
    "                idp_username = fila[0]\n",
    "            )\n",
    "            print (\"Se creo el usuario\", fila[0])            \n",
    "        except:\n",
    "            print (\"No se pudo crear usuario\",fila[0])"
   ]
  },
  {
   "cell_type": "code",
   "execution_count": 33,
   "metadata": {},
   "outputs": [
    {
     "ename": "AttributeError",
     "evalue": "'PortalAdminManager' object has no attribute 'EnterpriseUsers'",
     "output_type": "error",
     "traceback": [
      "\u001b[1;31m---------------------------------------------------------------------------\u001b[0m",
      "\u001b[1;31mAttributeError\u001b[0m                            Traceback (most recent call last)",
      "\u001b[1;32m<ipython-input-33-22d319e67079>\u001b[0m in \u001b[0;36m<module>\u001b[1;34m\u001b[0m\n\u001b[1;32m----> 1\u001b[1;33m \u001b[0mdetails\u001b[0m\u001b[1;33m=\u001b[0m\u001b[0mgis\u001b[0m\u001b[1;33m.\u001b[0m\u001b[0madmin\u001b[0m\u001b[1;33m.\u001b[0m\u001b[0mEnterpriseUsers\u001b[0m\u001b[1;33m.\u001b[0m\u001b[0mget\u001b[0m\u001b[1;33m(\u001b[0m\u001b[0mfila\u001b[0m\u001b[1;33m[\u001b[0m\u001b[1;36m0\u001b[0m\u001b[1;33m]\u001b[0m\u001b[1;33m)\u001b[0m\u001b[1;33m\u001b[0m\u001b[0m\n\u001b[0m",
      "\u001b[1;31mAttributeError\u001b[0m: 'PortalAdminManager' object has no attribute 'EnterpriseUsers'"
     ]
    }
   ],
   "source": [
    "details=gis.admin.En"
   ]
  },
  {
   "cell_type": "code",
   "execution_count": null,
   "metadata": {
    "collapsed": true
   },
   "outputs": [],
   "source": [
    "u=user[0]"
   ]
  },
  {
   "cell_type": "code",
   "execution_count": null,
   "metadata": {
    "collapsed": true
   },
   "outputs": [],
   "source": [
    "u"
   ]
  },
  {
   "cell_type": "code",
   "execution_count": null,
   "metadata": {
    "collapsed": true
   },
   "outputs": [],
   "source": [
    "u.update()"
   ]
  },
  {
   "cell_type": "code",
   "execution_count": null,
   "metadata": {
    "collapsed": true
   },
   "outputs": [],
   "source": [
    "print(data)"
   ]
  },
  {
   "cell_type": "code",
   "execution_count": null,
   "metadata": {
    "collapsed": true
   },
   "outputs": [],
   "source": [
    "dash = '-' * 40\n",
    "\n",
    "for i in range(len(data)):\n",
    "    if i == 0:\n",
    "      print(dash)\n",
    "      print('{:<10s}{:>4s}{:>12s}{:>12s}'.format(data[i][0],data[i][1],data[i][2],data[i][3]))\n",
    "      print(dash)\n",
    "    else:\n",
    "      print('{:<10s}{:>4d}{:^12s}{:>12.3f}'.format(data[i][0],data[i][1],data[i][2],data[i][3]))"
   ]
  },
  {
   "cell_type": "code",
   "execution_count": null,
   "metadata": {
    "collapsed": true
   },
   "outputs": [],
   "source": [
    "for user in users:\n",
    "    if ((user.username.startswith(\"esri\")|user.username.startswith(\"admin\"))is not True):\n",
    "        print(user.email)"
   ]
  },
  {
   "cell_type": "code",
   "execution_count": null,
   "metadata": {
    "collapsed": true
   },
   "outputs": [],
   "source": []
  }
 ],
 "metadata": {
  "kernelspec": {
   "display_name": "Python 3",
   "language": "python",
   "name": "python3"
  },
  "language_info": {
   "codemirror_mode": {
    "name": "ipython",
    "version": 3
   },
   "file_extension": ".py",
   "mimetype": "text/x-python",
   "name": "python",
   "nbconvert_exporter": "python",
   "pygments_lexer": "ipython3",
   "version": "3.6.8"
  }
 },
 "nbformat": 4,
 "nbformat_minor": 2
}
