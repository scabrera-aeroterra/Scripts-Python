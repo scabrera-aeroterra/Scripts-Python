{
 "cells": [
  {
   "cell_type": "code",
   "execution_count": null,
   "metadata": {},
   "outputs": [],
   "source": [
    "import arcpy\n",
    "import os\n",
    "arcpy.env.workspace = \"opendata.sde\"\n",
    "workspace =arcpy.env.workspace\n",
    "# Obtener lista de tablas y features standalone. Opcional lista de rasters.\n",
    "lista= arcpy.ListTables() + arcpy.ListFeatureClasses() #+ arcpy.ListRasters()"
   ]
  },
  {
   "cell_type": "code",
   "execution_count": null,
   "metadata": {},
   "outputs": [],
   "source": [
    "# Primero, se obtiene la lista de datasets\n",
    "datasets = arcpy.ListDatasets(\"\", \"Feature\")"
   ]
  },
  {
   "cell_type": "code",
   "execution_count": null,
   "metadata": {},
   "outputs": [],
   "source": [
    "#Luego por cada dataset, se listan los feature classes y datasets y se agregan a la lista\n",
    "for dataset in datasets:\n",
    "    arcpy.env.workspace = os.path.join(workspace,dataset)\n",
    "    datasetFeatureList = arcpy.ListFeatureClasses() + arcpy.ListDatasets()\n",
    "    lista += datasetFeatureList"
   ]
  },
  {
   "cell_type": "code",
   "execution_count": null,
   "metadata": {},
   "outputs": [],
   "source": [
    "#reset del workspace\n",
    "arcpy.env.workspace = workspace\n",
    "\n",
    "# Update de estadisticas de todos los elementos de la lista\n",
    "arcpy.AnalyzeDatasets_management(\n",
    "    input_database = arcpy.env.workspace, \n",
    "    include_system = \"SYSTEM\", \n",
    "    in_datasets = lista, \n",
    "    analyze_base = \"ANALYZE_BASE\", \n",
    "    analyze_delta = \"ANALYZE_DELTA\", \n",
    "    analyze_archive = \"ANALYZE_ARCHIVE\")"
   ]
  },
  {
   "cell_type": "code",
   "execution_count": null,
   "metadata": {},
   "outputs": [],
   "source": []
  }
 ],
 "metadata": {
  "kernelspec": {
   "display_name": "Python 3",
   "language": "python",
   "name": "python3"
  },
  "language_info": {
   "codemirror_mode": {
    "name": "ipython",
    "version": 3
   },
   "file_extension": ".py",
   "mimetype": "text/x-python",
   "name": "python",
   "nbconvert_exporter": "python",
   "pygments_lexer": "ipython3",
   "version": "3.6.6"
  }
 },
 "nbformat": 4,
 "nbformat_minor": 2
}
