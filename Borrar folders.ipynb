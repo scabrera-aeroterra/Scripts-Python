{
 "cells": [
  {
   "cell_type": "markdown",
   "metadata": {},
   "source": [
    "# Conectar al Portal/AGOL\n",
    "    Para AGOL ingresar URL de la organización Ej. \"https://asa-sec.maps.arcgis.com\"\n",
    "    Para Portal, URL del Portal /webadaptor Ej \"https://demo.aeroterra.com/portal\""
   ]
  },
  {
   "cell_type": "code",
   "execution_count": null,
   "metadata": {
    "collapsed": true
   },
   "outputs": [],
   "source": [
    "from arcgis.gis import *\n",
    "from IPython.display import display\n",
    "from getpass import getpass"
   ]
  },
  {
   "cell_type": "code",
   "execution_count": null,
   "metadata": {
    "collapsed": true
   },
   "outputs": [],
   "source": [
    "portalurl=input(\"Ingrese URL de portal:\")\n",
    "user=input(\"Ingrese usuario administrador:\")\n",
    "portalpassword = getpass()"
   ]
  },
  {
   "cell_type": "code",
   "execution_count": null,
   "metadata": {
    "collapsed": true
   },
   "outputs": [],
   "source": [
    "try:\n",
    "    gis = GIS(portalurl, user, portalpassword)\n",
    "except Exception as e:\n",
    "    if hasattr(e, 'message'):\n",
    "        print(e.message)\n",
    "    else:\n",
    "        print(e)"
   ]
  },
  {
   "cell_type": "markdown",
   "metadata": {},
   "source": [
    "# Ingresar el usuario"
   ]
  },
  {
   "cell_type": "code",
   "execution_count": null,
   "metadata": {
    "collapsed": true
   },
   "outputs": [],
   "source": [
    "userid=input(\"Ingrese el usuario:\")\n",
    "user=gis.users.get(userid)\n",
    "userid=user['username']"
   ]
  },
  {
   "cell_type": "code",
   "execution_count": null,
   "metadata": {
    "collapsed": true
   },
   "outputs": [],
   "source": [
    "print(userid)\n",
    "user"
   ]
  },
  {
   "cell_type": "markdown",
   "metadata": {},
   "source": [
    "# Borrar folders"
   ]
  },
  {
   "cell_type": "code",
   "execution_count": null,
   "metadata": {
    "collapsed": true
   },
   "outputs": [],
   "source": [
    "folders = user.folders\n",
    "\n",
    "for folder in folders:\n",
    "    print (\"============================================================================================\")\n",
    "    print (folder['title'])\n",
    "    try:\n",
    "        if gis.content.delete_folder(folder['title']):\n",
    "            print (\"Borrada\")\n",
    "    except Exception as e:\n",
    "        if hasattr(e, 'message'):\n",
    "            print(e.message)\n",
    "        else:\n",
    "            print(e)\n",
    "    print (\"============================================================================================\")\n",
    "\n",
    "    "
   ]
  },
  {
   "cell_type": "code",
   "execution_count": null,
   "metadata": {
    "collapsed": true
   },
   "outputs": [],
   "source": []
  }
 ],
 "metadata": {
  "kernelspec": {
   "display_name": "Python 3",
   "language": "python",
   "name": "python3"
  },
  "language_info": {
   "codemirror_mode": {
    "name": "ipython",
    "version": 3
   },
   "file_extension": ".py",
   "mimetype": "text/x-python",
   "name": "python",
   "nbconvert_exporter": "python",
   "pygments_lexer": "ipython3",
   "version": "3.6.8"
  }
 },
 "nbformat": 4,
 "nbformat_minor": 2
}
