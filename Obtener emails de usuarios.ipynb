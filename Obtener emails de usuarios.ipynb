{
 "cells": [
  {
   "cell_type": "code",
   "execution_count": 1,
   "metadata": {
    "collapsed": true
   },
   "outputs": [],
   "source": [
    "from arcgis.gis import *\n",
    "from IPython.display import display\n",
    "from getpass import getpass\n",
    "from time import *"
   ]
  },
  {
   "cell_type": "code",
   "execution_count": 2,
   "metadata": {},
   "outputs": [
    {
     "name": "stdout",
     "output_type": "stream",
     "text": [
      "Ingrese URL de portal:https://soluciones.aeroterra.com/portal\n",
      "Ingrese usuario administrador:admin\n"
     ]
    }
   ],
   "source": [
    "portalurl=input(\"Ingrese URL de portal:\")\n",
    "user=input(\"Ingrese usuario administrador:\")"
   ]
  },
  {
   "cell_type": "code",
   "execution_count": 3,
   "metadata": {},
   "outputs": [
    {
     "name": "stdout",
     "output_type": "stream",
     "text": [
      "········\n"
     ]
    }
   ],
   "source": [
    "portalpassword = getpass()"
   ]
  },
  {
   "cell_type": "code",
   "execution_count": 4,
   "metadata": {
    "collapsed": true
   },
   "outputs": [],
   "source": [
    "gis = GIS(portalurl, user, portalpassword)"
   ]
  },
  {
   "cell_type": "code",
   "execution_count": 5,
   "metadata": {
    "collapsed": true
   },
   "outputs": [],
   "source": [
    "users=gis.users.search(\"*\")"
   ]
  },
  {
   "cell_type": "code",
   "execution_count": 18,
   "metadata": {},
   "outputs": [
    {
     "name": "stdout",
     "output_type": "stream",
     "text": [
      "abezic@ASA , abezic@aeroterra.com\n",
      "aepiscopo@ASA , aepiscopo@aeroterra.com\n",
      "agonzalez@ASA , agonzalez@aeroterra.com\n",
      "AlumnoPub1 , avidal@aeroterra.com\n",
      "AlumnoPub2 , avidal@aeroterra.com\n",
      "AlumnoPub3 , avidal@aeroterra.com\n",
      "AlumnoPub4 , avidal@aeroterra.com\n",
      "AlumnoPub5 , avidal@aeroterra.com\n",
      "AlumnoPub6 , avidal@aeroterra.com\n",
      "amurabito@ASA , amurabito@aeroterra.com\n",
      "anisman@ASA , anisman@aeroterra.com\n",
      "avidal@ASA , avidal@aeroterra.com\n",
      "bconstantinidis@ASA , bconstantinidis@aeroterra.com\n",
      "bcorrea@ASA , bcorrea@aeroterra.com\n",
      "comercialtest , jdistefano@aeroterra.com\n",
      "dcandia@ASA , dcandia@aeroterra.com\n",
      "dgarcia@ASA , dgarcia@aeroterra.com\n",
      "dgonzalez@ASA , dgonzalez@aeroterra.com\n",
      "dmarcellino , dmarcellino@ocuscloud.tech\n",
      "dsamudio@ASA , dsamudio@aeroterra.com\n",
      "dzangrando@ASA , dzangrando@aeroterra.com\n",
      "eramirez@ASA , eramirez@aeroterra.com\n",
      "eviola@ASA , eviola@aeroterra.com\n",
      "ffasson@ASA , ffasson@aeroterra.com\n",
      "fflanzbaum@ASA , fflanzbaum@aeroterra.com\n",
      "fsanchez@ASA , fsanchez@aeroterra.com\n",
      "fviola@ASA , fviola@aeroterra.com\n",
      "gchaves@ASA , gchaves@aeroterra.com\n",
      "gdiypf , lbruno@aeroterra.com\n",
      "ge-axion , scabrera@aeroterra.com\n",
      "gurbina@ASA , gurbina@aeroterra.com\n",
      "jamigo@ASA , jamigo@aeroterra.com\n",
      "jbarbero@ASA , jbarbero@aeroterra.com\n",
      "jdistefano@ASA , jdistefano@aeroterra.com\n",
      "jguerra@ASA , jguerra@aeroterra.com\n",
      "jiruzubieta@ASA , jiruzubieta@aeroterra.com\n",
      "jmairano , juan_mairano@yahoo.com.ar\n",
      "lbruno@ASA , lbruno@aeroterra.com\n",
      "lcarvallo@ASA , lcarvallo@aeroterra.com\n",
      "lfuertes@ASA , lfuertes@aeroterra.com\n",
      "lmalisani@ASA , lmalisani@aeroterra.com\n",
      "lramos@ASA , lramos@aeroterra.com\n",
      "mcanalini@ASA , mcanalini@aeroterra.com\n",
      "mcoca@ASA , mcoca@aeroterra.com\n",
      "mdelapena@ASA , mdelapena@aeroterra.com\n",
      "mpesci@ASA , mviola@aeroterra.com\n",
      "muni_nqn , obaleani@aeroterra.com\n",
      "obaleani@ASA , obaleani@aeroterra.com\n",
      "palberico@ASA , palberico@aeroterra.com\n",
      "pbarbero@ASA , pbarbero@aeroterra.com\n",
      "pdiaz@ASA , pdiaz@aeroterra.com\n",
      "pdmspire , pdiaz@aeroterra.com\n",
      "portalasa , scabrera@aeroterra.com\n",
      "portalayf , dzangrando@aeroterra.com\n",
      "portalgob , lramos@aeroterra.com\n",
      "portalOD_LA , dsamudio@aeroterra.com\n",
      "portalpyg , dzangrando@aeroterra.com\n",
      "portalsec , jdistefano@aeroterra.com\n",
      "portaluti , avidal@aeroterra.com\n",
      "SANEAR_ASA , jdistefano@aeroterra.com\n",
      "scardoso78@gmail.com , scardoso78@gmail.com\n",
      "spesci@ASA , spesci@aeroterra.com\n",
      "tdonda , tdonda@aeroterra.com\n",
      "telecom_expoagro , lcarvallo@aeroterra.com\n",
      "visita_asa , lramos@aeroterra.com\n",
      "visita_mldc , lcarvallo@aeroterra.com\n",
      "vmendez@ASA , vmendez@aeroterra.com\n"
     ]
    }
   ],
   "source": [
    "for user in users:\n",
    "    if not(user.username.startswith(\"esri\")) | (user.username.startswith(\"admin\")):\n",
    "        print(user.username,',',user.email)\n",
    "\n",
    "        "
   ]
  },
  {
   "cell_type": "code",
   "execution_count": null,
   "metadata": {
    "collapsed": true
   },
   "outputs": [],
   "source": []
  },
  {
   "cell_type": "code",
   "execution_count": null,
   "metadata": {
    "collapsed": true
   },
   "outputs": [],
   "source": []
  }
 ],
 "metadata": {
  "kernelspec": {
   "display_name": "Python 3",
   "language": "python",
   "name": "python3"
  },
  "language_info": {
   "codemirror_mode": {
    "name": "ipython",
    "version": 3
   },
   "file_extension": ".py",
   "mimetype": "text/x-python",
   "name": "python",
   "nbconvert_exporter": "python",
   "pygments_lexer": "ipython3",
   "version": "3.6.8"
  }
 },
 "nbformat": 4,
 "nbformat_minor": 2
}
