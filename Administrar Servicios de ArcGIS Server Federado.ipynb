{
 "cells": [
  {
   "cell_type": "code",
   "execution_count": 1,
   "metadata": {
    "collapsed": true
   },
   "outputs": [],
   "source": [
    "from arcgis.gis import *\n",
    "from IPython.display import display\n",
    "from getpass import getpass\n",
    "from time import *\n",
    "import json"
   ]
  },
  {
   "cell_type": "code",
   "execution_count": 2,
   "metadata": {},
   "outputs": [
    {
     "name": "stdout",
     "output_type": "stream",
     "text": [
      "Ingrese URL de portal:https://soluciones.aeroterra.com/portal\n",
      "Ingrese usuario administrador:admin\n"
     ]
    }
   ],
   "source": [
    "portalurl=input(\"Ingrese URL de portal:\")\n",
    "user=input(\"Ingrese usuario administrador:\")"
   ]
  },
  {
   "cell_type": "code",
   "execution_count": 3,
   "metadata": {},
   "outputs": [
    {
     "name": "stdout",
     "output_type": "stream",
     "text": [
      "········\n"
     ]
    }
   ],
   "source": [
    "portalpassword = getpass()"
   ]
  },
  {
   "cell_type": "code",
   "execution_count": 4,
   "metadata": {
    "collapsed": true
   },
   "outputs": [],
   "source": [
    "gis = GIS(portalurl, user, portalpassword)"
   ]
  },
  {
   "cell_type": "code",
   "execution_count": 5,
   "metadata": {
    "collapsed": true
   },
   "outputs": [],
   "source": [
    "from arcgis.gis import server"
   ]
  },
  {
   "cell_type": "code",
   "execution_count": 6,
   "metadata": {
    "collapsed": true
   },
   "outputs": [],
   "source": [
    "gisservers=gis.admin.servers.list()"
   ]
  },
  {
   "cell_type": "code",
   "execution_count": 7,
   "metadata": {},
   "outputs": [
    {
     "data": {
      "text/plain": [
       "[<Server at https://soluciones.aeroterra.com/realtime/admin>,\n",
       " <Server at https://soluciones.aeroterra.com/hosting/admin>,\n",
       " <Server at https://soluciones.aeroterra.com/geoanalytics/admin>,\n",
       " <Server at https://soluciones.aeroterra.com/server/admin>]"
      ]
     },
     "execution_count": 7,
     "metadata": {},
     "output_type": "execute_result"
    }
   ],
   "source": [
    "gisservers"
   ]
  },
  {
   "cell_type": "code",
   "execution_count": 8,
   "metadata": {
    "collapsed": true
   },
   "outputs": [],
   "source": [
    "gisserver=gisservers[1]"
   ]
  },
  {
   "cell_type": "code",
   "execution_count": 9,
   "metadata": {},
   "outputs": [
    {
     "data": {
      "text/plain": [
       "<Server at https://soluciones.aeroterra.com/hosting/admin>"
      ]
     },
     "execution_count": 9,
     "metadata": {},
     "output_type": "execute_result"
    }
   ],
   "source": [
    "gisserver"
   ]
  },
  {
   "cell_type": "code",
   "execution_count": 10,
   "metadata": {
    "collapsed": true
   },
   "outputs": [],
   "source": [
    "servicelist=gisserver.services.list()"
   ]
  },
  {
   "cell_type": "code",
   "execution_count": 11,
   "metadata": {},
   "outputs": [
    {
     "data": {
      "text/plain": [
       "[<Service at https://soluciones.aeroterra.com/hosting/admin/services/ABSA_Areas_MS.MapServer>,\n",
       " <Service at https://soluciones.aeroterra.com/hosting/admin/services/Alarmas_Camaras.MapServer>,\n",
       " <Service at https://soluciones.aeroterra.com/hosting/admin/services/Alarmas_Camaras_Multipoint.MapServer>,\n",
       " <Service at https://soluciones.aeroterra.com/hosting/admin/services/Alarmas_Patentes_Areas.MapServer>,\n",
       " <Service at https://soluciones.aeroterra.com/hosting/admin/services/Alarmas_Patentes_Areas2.MapServer>,\n",
       " <Service at https://soluciones.aeroterra.com/hosting/admin/services/Allen_Muestra.MapServer>,\n",
       " <Service at https://soluciones.aeroterra.com/hosting/admin/services/Analisis_Camaras_Area_Servicio_Cut.MapServer>,\n",
       " <Service at https://soluciones.aeroterra.com/hosting/admin/services/Analisis_Camaras_AServ_Cut.MapServer>,\n",
       " <Service at https://soluciones.aeroterra.com/hosting/admin/services/Analisis_Camaras_AServcut.MapServer>,\n",
       " <Service at https://soluciones.aeroterra.com/hosting/admin/services/ANALISISPROXIMIDAD.GPServer>,\n",
       " <Service at https://soluciones.aeroterra.com/hosting/admin/services/BAP_Hospedajes.GPServer>,\n",
       " <Service at https://soluciones.aeroterra.com/hosting/admin/services/c2566221c.MapServer>,\n",
       " <Service at https://soluciones.aeroterra.com/hosting/admin/services/CABA_Datos_Base.MapServer>,\n",
       " <Service at https://soluciones.aeroterra.com/hosting/admin/services/Camaras_Alarma.MapServer>,\n",
       " <Service at https://soluciones.aeroterra.com/hosting/admin/services/Campana_Tablero.MapServer>,\n",
       " <Service at https://soluciones.aeroterra.com/hosting/admin/services/chaco.MapServer>,\n",
       " <Service at https://soluciones.aeroterra.com/hosting/admin/services/Cordoba_Tablero.MapServer>,\n",
       " <Service at https://soluciones.aeroterra.com/hosting/admin/services/D2M_Mineria.MapServer>,\n",
       " <Service at https://soluciones.aeroterra.com/hosting/admin/services/D2M_Mineria_MIL1.MapServer>,\n",
       " <Service at https://soluciones.aeroterra.com/hosting/admin/services/Datos_Rio_Negro.MapServer>,\n",
       " <Service at https://soluciones.aeroterra.com/hosting/admin/services/DEM_elkhorn_WedMerc.ImageServer>,\n",
       " <Service at https://soluciones.aeroterra.com/hosting/admin/services/Deudas_MI.MapServer>,\n",
       " <Service at https://soluciones.aeroterra.com/hosting/admin/services/Direcciones_Densidad.MapServer>,\n",
       " <Service at https://soluciones.aeroterra.com/hosting/admin/services/Distribucion_Electrica_Edesur_MIL1.MapServer>,\n",
       " <Service at https://soluciones.aeroterra.com/hosting/admin/services/DSM_Muestra.ImageServer>,\n",
       " <Service at https://soluciones.aeroterra.com/hosting/admin/services/estaciones_hidrometricas.MapServer>,\n",
       " <Service at https://soluciones.aeroterra.com/hosting/admin/services/Estaciones_Meteorologicas.MapServer>,\n",
       " <Service at https://soluciones.aeroterra.com/hosting/admin/services/Farmacias.MapServer>,\n",
       " <Service at https://soluciones.aeroterra.com/hosting/admin/services/Field1_Infrared.MapServer>,\n",
       " <Service at https://soluciones.aeroterra.com/hosting/admin/services/Field1_NDVI_tif.MapServer>,\n",
       " <Service at https://soluciones.aeroterra.com/hosting/admin/services/Field2_NDVI_2016_08_03.MapServer>,\n",
       " <Service at https://soluciones.aeroterra.com/hosting/admin/services/Field2_NDVI_2016_08_03_.MapServer>,\n",
       " <Service at https://soluciones.aeroterra.com/hosting/admin/services/Field2_RGB_2016_08_03.MapServer>,\n",
       " <Service at https://soluciones.aeroterra.com/hosting/admin/services/Field2_RGB_2016_08_03_.MapServer>,\n",
       " <Service at https://soluciones.aeroterra.com/hosting/admin/services/fronteras_datos_2.MapServer>,\n",
       " <Service at https://soluciones.aeroterra.com/hosting/admin/services/GCBA_PDI.MapServer>,\n",
       " <Service at https://soluciones.aeroterra.com/hosting/admin/services/Grillado_100x100_Completo_JUN17_mas_de_3.MapServer>,\n",
       " <Service at https://soluciones.aeroterra.com/hosting/admin/services/GrilladoPredictivo_100x100_JUN17_mas_de_1.MapServer>,\n",
       " <Service at https://soluciones.aeroterra.com/hosting/admin/services/GrilladoPredictivo_100x100_JUN17_mas_de_2.MapServer>,\n",
       " <Service at https://soluciones.aeroterra.com/hosting/admin/services/GrilladoPredictivo_100x100_JUN17_mas_de_3.MapServer>,\n",
       " <Service at https://soluciones.aeroterra.com/hosting/admin/services/GrilladoPredicto_100x100_JUN17_mas_de_3.MapServer>,\n",
       " <Service at https://soluciones.aeroterra.com/hosting/admin/services/Hidrantes.MapServer>,\n",
       " <Service at https://soluciones.aeroterra.com/hosting/admin/services/Hidrantes2.MapServer>,\n",
       " <Service at https://soluciones.aeroterra.com/hosting/admin/services/Incendios.MapServer>,\n",
       " <Service at https://soluciones.aeroterra.com/hosting/admin/services/Inundaciones_NDWI_Post.MapServer>,\n",
       " <Service at https://soluciones.aeroterra.com/hosting/admin/services/Inundaciones_NDWI_Pre.MapServer>,\n",
       " <Service at https://soluciones.aeroterra.com/hosting/admin/services/Inundaciones_RGB_Post.MapServer>,\n",
       " <Service at https://soluciones.aeroterra.com/hosting/admin/services/Inundaciones_RGB_Pre.MapServer>,\n",
       " <Service at https://soluciones.aeroterra.com/hosting/admin/services/Mapa_Abandono_1_MIL1.MapServer>,\n",
       " <Service at https://soluciones.aeroterra.com/hosting/admin/services/Mapa_Abandono_1_MIL2.MapServer>,\n",
       " <Service at https://soluciones.aeroterra.com/hosting/admin/services/Mapa_Abandono_MIL1.MapServer>,\n",
       " <Service at https://soluciones.aeroterra.com/hosting/admin/services/Mapa_Abandono_MIL2.MapServer>,\n",
       " <Service at https://soluciones.aeroterra.com/hosting/admin/services/MapaCalorPrediccionMI.MapServer>,\n",
       " <Service at https://soluciones.aeroterra.com/hosting/admin/services/MapaRedes_MIL1.MapServer>,\n",
       " <Service at https://soluciones.aeroterra.com/hosting/admin/services/Mineria_Ejemplo_DSM_Hillshade_tif.MapServer>,\n",
       " <Service at https://soluciones.aeroterra.com/hosting/admin/services/NBR_Post.MapServer>,\n",
       " <Service at https://soluciones.aeroterra.com/hosting/admin/services/NBR_Pre.MapServer>,\n",
       " <Service at https://soluciones.aeroterra.com/hosting/admin/services/Neuquen_2018_Mapa.MapServer>,\n",
       " <Service at https://soluciones.aeroterra.com/hosting/admin/services/NIR_Post.MapServer>,\n",
       " <Service at https://soluciones.aeroterra.com/hosting/admin/services/NIR_Pre.MapServer>,\n",
       " <Service at https://soluciones.aeroterra.com/hosting/admin/services/NIR_zoom.MapServer>,\n",
       " <Service at https://soluciones.aeroterra.com/hosting/admin/services/Parcelario.MapServer>,\n",
       " <Service at https://soluciones.aeroterra.com/hosting/admin/services/Parcelas_Campana_2018.MapServer>,\n",
       " <Service at https://soluciones.aeroterra.com/hosting/admin/services/Patentes_Buffer.MapServer>,\n",
       " <Service at https://soluciones.aeroterra.com/hosting/admin/services/Pilar_Humboldt_2016_11_04_L8_anterior.MapServer>,\n",
       " <Service at https://soluciones.aeroterra.com/hosting/admin/services/Pilar_Humboldt_2016_anterior_NDVI.MapServer>,\n",
       " <Service at https://soluciones.aeroterra.com/hosting/admin/services/Pilar_Humboldt_2016_anterior_NDVI_.MapServer>,\n",
       " <Service at https://soluciones.aeroterra.com/hosting/admin/services/Pilar_Humboldt_2016_anterior_RGB.MapServer>,\n",
       " <Service at https://soluciones.aeroterra.com/hosting/admin/services/Pilar_Humboldt_2016_posterior.MapServer>,\n",
       " <Service at https://soluciones.aeroterra.com/hosting/admin/services/Pilar_Humboldt_2016_posterior_NDVI.MapServer>,\n",
       " <Service at https://soluciones.aeroterra.com/hosting/admin/services/Pilar_Humboldt_2016_posterior_RGB.MapServer>,\n",
       " <Service at https://soluciones.aeroterra.com/hosting/admin/services/Pilar_Los_Sauces_Tablero.MapServer>,\n",
       " <Service at https://soluciones.aeroterra.com/hosting/admin/services/Pista1.MapServer>,\n",
       " <Service at https://soluciones.aeroterra.com/hosting/admin/services/Pozos.MapServer>,\n",
       " <Service at https://soluciones.aeroterra.com/hosting/admin/services/Prueba.MapServer>,\n",
       " <Service at https://soluciones.aeroterra.com/hosting/admin/services/RGB_Post.MapServer>,\n",
       " <Service at https://soluciones.aeroterra.com/hosting/admin/services/RGB_Pre.MapServer>,\n",
       " <Service at https://soluciones.aeroterra.com/hosting/admin/services/RGB_zoom.MapServer>,\n",
       " <Service at https://soluciones.aeroterra.com/hosting/admin/services/Roads_MI.MapServer>,\n",
       " <Service at https://soluciones.aeroterra.com/hosting/admin/services/SampleWorldCities.MapServer>,\n",
       " <Service at https://soluciones.aeroterra.com/hosting/admin/services/SimulacionDrones_MIL1.MapServer>,\n",
       " <Service at https://soluciones.aeroterra.com/hosting/admin/services/SimulacionDronesEA_MIL1.MapServer>,\n",
       " <Service at https://soluciones.aeroterra.com/hosting/admin/services/SM18_datos_VT2.MapServer>,\n",
       " <Service at https://soluciones.aeroterra.com/hosting/admin/services/SMC_Camiones_recoleccion.MapServer>,\n",
       " <Service at https://soluciones.aeroterra.com/hosting/admin/services/SMN_Diciembre_Humedad.MapServer>,\n",
       " <Service at https://soluciones.aeroterra.com/hosting/admin/services/SMN_Diciembre_pp.MapServer>,\n",
       " <Service at https://soluciones.aeroterra.com/hosting/admin/services/SMN_Diciembre_TempMax.MapServer>,\n",
       " <Service at https://soluciones.aeroterra.com/hosting/admin/services/SMN_Enero_Humedad.MapServer>,\n",
       " <Service at https://soluciones.aeroterra.com/hosting/admin/services/SMN_Enero_pp.MapServer>,\n",
       " <Service at https://soluciones.aeroterra.com/hosting/admin/services/SMN_Enero_TempMax.MapServer>,\n",
       " <Service at https://soluciones.aeroterra.com/hosting/admin/services/SMN_Noviembre_Humedad.MapServer>,\n",
       " <Service at https://soluciones.aeroterra.com/hosting/admin/services/SMN_Noviembre_pp.MapServer>,\n",
       " <Service at https://soluciones.aeroterra.com/hosting/admin/services/SMN_Noviembre_TempMAX.MapServer>,\n",
       " <Service at https://soluciones.aeroterra.com/hosting/admin/services/SMN_Octubre_Humedad.MapServer>,\n",
       " <Service at https://soluciones.aeroterra.com/hosting/admin/services/SMN_Octubre_pp.MapServer>,\n",
       " <Service at https://soluciones.aeroterra.com/hosting/admin/services/SMN_Octubre_TempMax.MapServer>,\n",
       " <Service at https://soluciones.aeroterra.com/hosting/admin/services/SUBE-Colectivos-MVL-FS.MapServer>,\n",
       " <Service at https://soluciones.aeroterra.com/hosting/admin/services/SUBE-Colectivos-MVL-Stream-storelatest.MapServer>,\n",
       " <Service at https://soluciones.aeroterra.com/hosting/admin/services/SUBE-Incidentes.MapServer>,\n",
       " <Service at https://soluciones.aeroterra.com/hosting/admin/services/SUBE-Linea130-frecuencia-fs.MapServer>,\n",
       " <Service at https://soluciones.aeroterra.com/hosting/admin/services/SUBE-Linea130-FS.MapServer>,\n",
       " <Service at https://soluciones.aeroterra.com/hosting/admin/services/SUBE-Linea130-stream-storelatest.MapServer>,\n",
       " <Service at https://soluciones.aeroterra.com/hosting/admin/services/SUBE-Linea130-stream-test-storelatest.MapServer>,\n",
       " <Service at https://soluciones.aeroterra.com/hosting/admin/services/TGN_sim.MapServer>,\n",
       " <Service at https://soluciones.aeroterra.com/hosting/admin/services/Tigre_2009.MapServer>,\n",
       " <Service at https://soluciones.aeroterra.com/hosting/admin/services/Tigre_2012.MapServer>,\n",
       " <Service at https://soluciones.aeroterra.com/hosting/admin/services/Tigre_2014.MapServer>,\n",
       " <Service at https://soluciones.aeroterra.com/hosting/admin/services/Tigre_Imagen_2009.MapServer>,\n",
       " <Service at https://soluciones.aeroterra.com/hosting/admin/services/Tigre_Imagen_2012.MapServer>,\n",
       " <Service at https://soluciones.aeroterra.com/hosting/admin/services/Tigre_Imagen_2014.MapServer>,\n",
       " <Service at https://soluciones.aeroterra.com/hosting/admin/services/Tigre_Img2009.MapServer>,\n",
       " <Service at https://soluciones.aeroterra.com/hosting/admin/services/Tigre_img_2009.MapServer>,\n",
       " <Service at https://soluciones.aeroterra.com/hosting/admin/services/Tigre_Img_2012.MapServer>,\n",
       " <Service at https://soluciones.aeroterra.com/hosting/admin/services/Trenes.MapServer>,\n",
       " <Service at https://soluciones.aeroterra.com/hosting/admin/services/UTI-cuadrillas-feature.MapServer>,\n",
       " <Service at https://soluciones.aeroterra.com/hosting/admin/services/Vicente_Lopez_Tablero.MapServer>,\n",
       " <Service at https://soluciones.aeroterra.com/hosting/admin/services/Vicu%C3%B1a_Mackenna_2018_01_08_L8_anterior.MapServer>,\n",
       " <Service at https://soluciones.aeroterra.com/hosting/admin/services/Vicu%C3%B1a_Mackenna_2018_02_01_L7_posterior.MapServer>,\n",
       " <Service at https://soluciones.aeroterra.com/hosting/admin/services/Vicu%C3%B1a_Mackenna_2018_anterior.MapServer>,\n",
       " <Service at https://soluciones.aeroterra.com/hosting/admin/services/VL_mapa_base.MapServer>]"
      ]
     },
     "execution_count": 11,
     "metadata": {},
     "output_type": "execute_result"
    }
   ],
   "source": [
    "servicelist"
   ]
  },
  {
   "cell_type": "code",
   "execution_count": 12,
   "metadata": {
    "collapsed": true
   },
   "outputs": [],
   "source": [
    "folderlist=gisserver.services.folders"
   ]
  },
  {
   "cell_type": "code",
   "execution_count": 13,
   "metadata": {},
   "outputs": [
    {
     "data": {
      "text/plain": [
       "['Hosted', 'System', 'Utilities', '/']"
      ]
     },
     "execution_count": 13,
     "metadata": {},
     "output_type": "execute_result"
    }
   ],
   "source": [
    "folderlist"
   ]
  },
  {
   "cell_type": "code",
   "execution_count": 14,
   "metadata": {
    "collapsed": true
   },
   "outputs": [],
   "source": [
    "servicelist=gisserver.services.list(folder=folderlist[3])"
   ]
  },
  {
   "cell_type": "code",
   "execution_count": 15,
   "metadata": {},
   "outputs": [
    {
     "data": {
      "text/plain": [
       "[<Service at https://soluciones.aeroterra.com/hosting/admin/services/ABSA_Areas_MS.MapServer>,\n",
       " <Service at https://soluciones.aeroterra.com/hosting/admin/services/Alarmas_Camaras.MapServer>,\n",
       " <Service at https://soluciones.aeroterra.com/hosting/admin/services/Alarmas_Camaras_Multipoint.MapServer>,\n",
       " <Service at https://soluciones.aeroterra.com/hosting/admin/services/Alarmas_Patentes_Areas.MapServer>,\n",
       " <Service at https://soluciones.aeroterra.com/hosting/admin/services/Alarmas_Patentes_Areas2.MapServer>,\n",
       " <Service at https://soluciones.aeroterra.com/hosting/admin/services/Allen_Muestra.MapServer>,\n",
       " <Service at https://soluciones.aeroterra.com/hosting/admin/services/Analisis_Camaras_Area_Servicio_Cut.MapServer>,\n",
       " <Service at https://soluciones.aeroterra.com/hosting/admin/services/Analisis_Camaras_AServ_Cut.MapServer>,\n",
       " <Service at https://soluciones.aeroterra.com/hosting/admin/services/Analisis_Camaras_AServcut.MapServer>,\n",
       " <Service at https://soluciones.aeroterra.com/hosting/admin/services/ANALISISPROXIMIDAD.GPServer>,\n",
       " <Service at https://soluciones.aeroterra.com/hosting/admin/services/BAP_Hospedajes.GPServer>,\n",
       " <Service at https://soluciones.aeroterra.com/hosting/admin/services/c2566221c.MapServer>,\n",
       " <Service at https://soluciones.aeroterra.com/hosting/admin/services/CABA_Datos_Base.MapServer>,\n",
       " <Service at https://soluciones.aeroterra.com/hosting/admin/services/Camaras_Alarma.MapServer>,\n",
       " <Service at https://soluciones.aeroterra.com/hosting/admin/services/Campana_Tablero.MapServer>,\n",
       " <Service at https://soluciones.aeroterra.com/hosting/admin/services/chaco.MapServer>,\n",
       " <Service at https://soluciones.aeroterra.com/hosting/admin/services/Cordoba_Tablero.MapServer>,\n",
       " <Service at https://soluciones.aeroterra.com/hosting/admin/services/D2M_Mineria.MapServer>,\n",
       " <Service at https://soluciones.aeroterra.com/hosting/admin/services/D2M_Mineria_MIL1.MapServer>,\n",
       " <Service at https://soluciones.aeroterra.com/hosting/admin/services/Datos_Rio_Negro.MapServer>,\n",
       " <Service at https://soluciones.aeroterra.com/hosting/admin/services/DEM_elkhorn_WedMerc.ImageServer>,\n",
       " <Service at https://soluciones.aeroterra.com/hosting/admin/services/Deudas_MI.MapServer>,\n",
       " <Service at https://soluciones.aeroterra.com/hosting/admin/services/Direcciones_Densidad.MapServer>,\n",
       " <Service at https://soluciones.aeroterra.com/hosting/admin/services/Distribucion_Electrica_Edesur_MIL1.MapServer>,\n",
       " <Service at https://soluciones.aeroterra.com/hosting/admin/services/DSM_Muestra.ImageServer>,\n",
       " <Service at https://soluciones.aeroterra.com/hosting/admin/services/estaciones_hidrometricas.MapServer>,\n",
       " <Service at https://soluciones.aeroterra.com/hosting/admin/services/Estaciones_Meteorologicas.MapServer>,\n",
       " <Service at https://soluciones.aeroterra.com/hosting/admin/services/Farmacias.MapServer>,\n",
       " <Service at https://soluciones.aeroterra.com/hosting/admin/services/Field1_Infrared.MapServer>,\n",
       " <Service at https://soluciones.aeroterra.com/hosting/admin/services/Field1_NDVI_tif.MapServer>,\n",
       " <Service at https://soluciones.aeroterra.com/hosting/admin/services/Field2_NDVI_2016_08_03.MapServer>,\n",
       " <Service at https://soluciones.aeroterra.com/hosting/admin/services/Field2_NDVI_2016_08_03_.MapServer>,\n",
       " <Service at https://soluciones.aeroterra.com/hosting/admin/services/Field2_RGB_2016_08_03.MapServer>,\n",
       " <Service at https://soluciones.aeroterra.com/hosting/admin/services/Field2_RGB_2016_08_03_.MapServer>,\n",
       " <Service at https://soluciones.aeroterra.com/hosting/admin/services/fronteras_datos_2.MapServer>,\n",
       " <Service at https://soluciones.aeroterra.com/hosting/admin/services/GCBA_PDI.MapServer>,\n",
       " <Service at https://soluciones.aeroterra.com/hosting/admin/services/Grillado_100x100_Completo_JUN17_mas_de_3.MapServer>,\n",
       " <Service at https://soluciones.aeroterra.com/hosting/admin/services/GrilladoPredictivo_100x100_JUN17_mas_de_1.MapServer>,\n",
       " <Service at https://soluciones.aeroterra.com/hosting/admin/services/GrilladoPredictivo_100x100_JUN17_mas_de_2.MapServer>,\n",
       " <Service at https://soluciones.aeroterra.com/hosting/admin/services/GrilladoPredictivo_100x100_JUN17_mas_de_3.MapServer>,\n",
       " <Service at https://soluciones.aeroterra.com/hosting/admin/services/GrilladoPredicto_100x100_JUN17_mas_de_3.MapServer>,\n",
       " <Service at https://soluciones.aeroterra.com/hosting/admin/services/Hidrantes.MapServer>,\n",
       " <Service at https://soluciones.aeroterra.com/hosting/admin/services/Hidrantes2.MapServer>,\n",
       " <Service at https://soluciones.aeroterra.com/hosting/admin/services/Incendios.MapServer>,\n",
       " <Service at https://soluciones.aeroterra.com/hosting/admin/services/Inundaciones_NDWI_Post.MapServer>,\n",
       " <Service at https://soluciones.aeroterra.com/hosting/admin/services/Inundaciones_NDWI_Pre.MapServer>,\n",
       " <Service at https://soluciones.aeroterra.com/hosting/admin/services/Inundaciones_RGB_Post.MapServer>,\n",
       " <Service at https://soluciones.aeroterra.com/hosting/admin/services/Inundaciones_RGB_Pre.MapServer>,\n",
       " <Service at https://soluciones.aeroterra.com/hosting/admin/services/Mapa_Abandono_1_MIL1.MapServer>,\n",
       " <Service at https://soluciones.aeroterra.com/hosting/admin/services/Mapa_Abandono_1_MIL2.MapServer>,\n",
       " <Service at https://soluciones.aeroterra.com/hosting/admin/services/Mapa_Abandono_MIL1.MapServer>,\n",
       " <Service at https://soluciones.aeroterra.com/hosting/admin/services/Mapa_Abandono_MIL2.MapServer>,\n",
       " <Service at https://soluciones.aeroterra.com/hosting/admin/services/MapaCalorPrediccionMI.MapServer>,\n",
       " <Service at https://soluciones.aeroterra.com/hosting/admin/services/MapaRedes_MIL1.MapServer>,\n",
       " <Service at https://soluciones.aeroterra.com/hosting/admin/services/Mineria_Ejemplo_DSM_Hillshade_tif.MapServer>,\n",
       " <Service at https://soluciones.aeroterra.com/hosting/admin/services/NBR_Post.MapServer>,\n",
       " <Service at https://soluciones.aeroterra.com/hosting/admin/services/NBR_Pre.MapServer>,\n",
       " <Service at https://soluciones.aeroterra.com/hosting/admin/services/Neuquen_2018_Mapa.MapServer>,\n",
       " <Service at https://soluciones.aeroterra.com/hosting/admin/services/NIR_Post.MapServer>,\n",
       " <Service at https://soluciones.aeroterra.com/hosting/admin/services/NIR_Pre.MapServer>,\n",
       " <Service at https://soluciones.aeroterra.com/hosting/admin/services/NIR_zoom.MapServer>,\n",
       " <Service at https://soluciones.aeroterra.com/hosting/admin/services/Parcelario.MapServer>,\n",
       " <Service at https://soluciones.aeroterra.com/hosting/admin/services/Parcelas_Campana_2018.MapServer>,\n",
       " <Service at https://soluciones.aeroterra.com/hosting/admin/services/Patentes_Buffer.MapServer>,\n",
       " <Service at https://soluciones.aeroterra.com/hosting/admin/services/Pilar_Humboldt_2016_11_04_L8_anterior.MapServer>,\n",
       " <Service at https://soluciones.aeroterra.com/hosting/admin/services/Pilar_Humboldt_2016_anterior_NDVI.MapServer>,\n",
       " <Service at https://soluciones.aeroterra.com/hosting/admin/services/Pilar_Humboldt_2016_anterior_NDVI_.MapServer>,\n",
       " <Service at https://soluciones.aeroterra.com/hosting/admin/services/Pilar_Humboldt_2016_anterior_RGB.MapServer>,\n",
       " <Service at https://soluciones.aeroterra.com/hosting/admin/services/Pilar_Humboldt_2016_posterior.MapServer>,\n",
       " <Service at https://soluciones.aeroterra.com/hosting/admin/services/Pilar_Humboldt_2016_posterior_NDVI.MapServer>,\n",
       " <Service at https://soluciones.aeroterra.com/hosting/admin/services/Pilar_Humboldt_2016_posterior_RGB.MapServer>,\n",
       " <Service at https://soluciones.aeroterra.com/hosting/admin/services/Pilar_Los_Sauces_Tablero.MapServer>,\n",
       " <Service at https://soluciones.aeroterra.com/hosting/admin/services/Pista1.MapServer>,\n",
       " <Service at https://soluciones.aeroterra.com/hosting/admin/services/Pozos.MapServer>,\n",
       " <Service at https://soluciones.aeroterra.com/hosting/admin/services/Prueba.MapServer>,\n",
       " <Service at https://soluciones.aeroterra.com/hosting/admin/services/RGB_Post.MapServer>,\n",
       " <Service at https://soluciones.aeroterra.com/hosting/admin/services/RGB_Pre.MapServer>,\n",
       " <Service at https://soluciones.aeroterra.com/hosting/admin/services/RGB_zoom.MapServer>,\n",
       " <Service at https://soluciones.aeroterra.com/hosting/admin/services/Roads_MI.MapServer>,\n",
       " <Service at https://soluciones.aeroterra.com/hosting/admin/services/SampleWorldCities.MapServer>,\n",
       " <Service at https://soluciones.aeroterra.com/hosting/admin/services/SimulacionDrones_MIL1.MapServer>,\n",
       " <Service at https://soluciones.aeroterra.com/hosting/admin/services/SimulacionDronesEA_MIL1.MapServer>,\n",
       " <Service at https://soluciones.aeroterra.com/hosting/admin/services/SM18_datos_VT2.MapServer>,\n",
       " <Service at https://soluciones.aeroterra.com/hosting/admin/services/SMC_Camiones_recoleccion.MapServer>,\n",
       " <Service at https://soluciones.aeroterra.com/hosting/admin/services/SMN_Diciembre_Humedad.MapServer>,\n",
       " <Service at https://soluciones.aeroterra.com/hosting/admin/services/SMN_Diciembre_pp.MapServer>,\n",
       " <Service at https://soluciones.aeroterra.com/hosting/admin/services/SMN_Diciembre_TempMax.MapServer>,\n",
       " <Service at https://soluciones.aeroterra.com/hosting/admin/services/SMN_Enero_Humedad.MapServer>,\n",
       " <Service at https://soluciones.aeroterra.com/hosting/admin/services/SMN_Enero_pp.MapServer>,\n",
       " <Service at https://soluciones.aeroterra.com/hosting/admin/services/SMN_Enero_TempMax.MapServer>,\n",
       " <Service at https://soluciones.aeroterra.com/hosting/admin/services/SMN_Noviembre_Humedad.MapServer>,\n",
       " <Service at https://soluciones.aeroterra.com/hosting/admin/services/SMN_Noviembre_pp.MapServer>,\n",
       " <Service at https://soluciones.aeroterra.com/hosting/admin/services/SMN_Noviembre_TempMAX.MapServer>,\n",
       " <Service at https://soluciones.aeroterra.com/hosting/admin/services/SMN_Octubre_Humedad.MapServer>,\n",
       " <Service at https://soluciones.aeroterra.com/hosting/admin/services/SMN_Octubre_pp.MapServer>,\n",
       " <Service at https://soluciones.aeroterra.com/hosting/admin/services/SMN_Octubre_TempMax.MapServer>,\n",
       " <Service at https://soluciones.aeroterra.com/hosting/admin/services/SUBE-Colectivos-MVL-FS.MapServer>,\n",
       " <Service at https://soluciones.aeroterra.com/hosting/admin/services/SUBE-Colectivos-MVL-Stream-storelatest.MapServer>,\n",
       " <Service at https://soluciones.aeroterra.com/hosting/admin/services/SUBE-Incidentes.MapServer>,\n",
       " <Service at https://soluciones.aeroterra.com/hosting/admin/services/SUBE-Linea130-frecuencia-fs.MapServer>,\n",
       " <Service at https://soluciones.aeroterra.com/hosting/admin/services/SUBE-Linea130-FS.MapServer>,\n",
       " <Service at https://soluciones.aeroterra.com/hosting/admin/services/SUBE-Linea130-stream-storelatest.MapServer>,\n",
       " <Service at https://soluciones.aeroterra.com/hosting/admin/services/SUBE-Linea130-stream-test-storelatest.MapServer>,\n",
       " <Service at https://soluciones.aeroterra.com/hosting/admin/services/TGN_sim.MapServer>,\n",
       " <Service at https://soluciones.aeroterra.com/hosting/admin/services/Tigre_2009.MapServer>,\n",
       " <Service at https://soluciones.aeroterra.com/hosting/admin/services/Tigre_2012.MapServer>,\n",
       " <Service at https://soluciones.aeroterra.com/hosting/admin/services/Tigre_2014.MapServer>,\n",
       " <Service at https://soluciones.aeroterra.com/hosting/admin/services/Tigre_Imagen_2009.MapServer>,\n",
       " <Service at https://soluciones.aeroterra.com/hosting/admin/services/Tigre_Imagen_2012.MapServer>,\n",
       " <Service at https://soluciones.aeroterra.com/hosting/admin/services/Tigre_Imagen_2014.MapServer>,\n",
       " <Service at https://soluciones.aeroterra.com/hosting/admin/services/Tigre_Img2009.MapServer>,\n",
       " <Service at https://soluciones.aeroterra.com/hosting/admin/services/Tigre_img_2009.MapServer>,\n",
       " <Service at https://soluciones.aeroterra.com/hosting/admin/services/Tigre_Img_2012.MapServer>,\n",
       " <Service at https://soluciones.aeroterra.com/hosting/admin/services/Trenes.MapServer>,\n",
       " <Service at https://soluciones.aeroterra.com/hosting/admin/services/UTI-cuadrillas-feature.MapServer>,\n",
       " <Service at https://soluciones.aeroterra.com/hosting/admin/services/Vicente_Lopez_Tablero.MapServer>,\n",
       " <Service at https://soluciones.aeroterra.com/hosting/admin/services/Vicu%C3%B1a_Mackenna_2018_01_08_L8_anterior.MapServer>,\n",
       " <Service at https://soluciones.aeroterra.com/hosting/admin/services/Vicu%C3%B1a_Mackenna_2018_02_01_L7_posterior.MapServer>,\n",
       " <Service at https://soluciones.aeroterra.com/hosting/admin/services/Vicu%C3%B1a_Mackenna_2018_anterior.MapServer>,\n",
       " <Service at https://soluciones.aeroterra.com/hosting/admin/services/VL_mapa_base.MapServer>]"
      ]
     },
     "execution_count": 15,
     "metadata": {},
     "output_type": "execute_result"
    }
   ],
   "source": [
    "servicelist"
   ]
  },
  {
   "cell_type": "code",
   "execution_count": null,
   "metadata": {
    "collapsed": true
   },
   "outputs": [],
   "source": [
    "servicelist=gisserver.services.list(folder='/')"
   ]
  },
  {
   "cell_type": "code",
   "execution_count": null,
   "metadata": {
    "collapsed": true
   },
   "outputs": [],
   "source": [
    "servicelist"
   ]
  },
  {
   "cell_type": "code",
   "execution_count": 16,
   "metadata": {},
   "outputs": [
    {
     "data": {
      "text/plain": [
       "<Service at https://soluciones.aeroterra.com/hosting/admin/services/Alarmas_Camaras.MapServer>"
      ]
     },
     "execution_count": 16,
     "metadata": {},
     "output_type": "execute_result"
    }
   ],
   "source": [
    "servicelist[1]"
   ]
  },
  {
   "cell_type": "code",
   "execution_count": 17,
   "metadata": {
    "collapsed": true
   },
   "outputs": [],
   "source": [
    "servicio=servicelist[1]"
   ]
  },
  {
   "cell_type": "code",
   "execution_count": 23,
   "metadata": {},
   "outputs": [
    {
     "data": {
      "text/plain": [
       "{'configuredState': 'STARTED', 'realTimeState': 'STARTED'}"
      ]
     },
     "execution_count": 23,
     "metadata": {},
     "output_type": "execute_result"
    }
   ],
   "source": [
    "servicio.status"
   ]
  },
  {
   "cell_type": "code",
   "execution_count": null,
   "metadata": {
    "collapsed": true
   },
   "outputs": [],
   "source": [
    "servicio.stop()"
   ]
  },
  {
   "cell_type": "code",
   "execution_count": null,
   "metadata": {
    "collapsed": true
   },
   "outputs": [],
   "source": [
    "servicio.start()"
   ]
  },
  {
   "cell_type": "code",
   "execution_count": 30,
   "metadata": {
    "collapsed": true
   },
   "outputs": [],
   "source": [
    "servicepropertiesobject=servicio.properties"
   ]
  },
  {
   "cell_type": "code",
   "execution_count": 14,
   "metadata": {
    "collapsed": true
   },
   "outputs": [],
   "source": [
    "servicepropertiesobject.minInstancesPerNode=1"
   ]
  },
  {
   "cell_type": "code",
   "execution_count": 46,
   "metadata": {},
   "outputs": [
    {
     "data": {
      "text/plain": [
       "True"
      ]
     },
     "execution_count": 46,
     "metadata": {},
     "output_type": "execute_result"
    }
   ],
   "source": [
    "servicio.edit(dict(servicepropertiesobject))"
   ]
  },
  {
   "cell_type": "code",
   "execution_count": 47,
   "metadata": {
    "collapsed": true
   },
   "outputs": [],
   "source": [
    "servicio=servicelist[1]"
   ]
  },
  {
   "cell_type": "code",
   "execution_count": 48,
   "metadata": {},
   "outputs": [
    {
     "data": {
      "text/plain": [
       "{\n",
       "  \"serviceName\": \"Argentina_Poblaci\\u00f3n_Viviendas_Hogares\",\n",
       "  \"type\": \"MapServer\",\n",
       "  \"description\": \"\",\n",
       "  \"capabilities\": \"Map,Query,Data\",\n",
       "  \"provider\": \"ArcObjects11\",\n",
       "  \"clusterName\": \"default\",\n",
       "  \"minInstancesPerNode\": 1,\n",
       "  \"maxInstancesPerNode\": 2,\n",
       "  \"instancesPerContainer\": 1,\n",
       "  \"maxWaitTime\": 60,\n",
       "  \"maxStartupTime\": 300,\n",
       "  \"maxIdleTime\": 1800,\n",
       "  \"maxUsageTime\": 600,\n",
       "  \"loadBalancing\": \"ROUND_ROBIN\",\n",
       "  \"isolationLevel\": \"HIGH\",\n",
       "  \"configuredState\": \"STARTED\",\n",
       "  \"recycleInterval\": 24,\n",
       "  \"recycleStartTime\": \"00:00\",\n",
       "  \"keepAliveInterval\": 1800,\n",
       "  \"private\": false,\n",
       "  \"isDefault\": false,\n",
       "  \"maxUploadFileSize\": 0,\n",
       "  \"allowedUploadFileTypes\": \"\",\n",
       "  \"properties\": {\n",
       "    \"maxDomainCodeCount\": \"25000\",\n",
       "    \"cacheDir\": \"E:\\\\GIS\\\\arcgisserver\\\\directories\\\\arcgiscache\",\n",
       "    \"maxImageWidth\": \"4096\",\n",
       "    \"maxRecordCount\": \"5000\",\n",
       "    \"antialiasingMode\": \"Fast\",\n",
       "    \"enableDynamicLayers\": \"true\",\n",
       "    \"dynamicDataWorkspaces\": \"[]\",\n",
       "    \"isCached\": \"false\",\n",
       "    \"virtualOutputDir\": \"/rest/directories/arcgisoutput\",\n",
       "    \"exportTilesAllowed\": \"false\",\n",
       "    \"maxImageHeight\": \"4096\",\n",
       "    \"cacheOnDemand\": \"false\",\n",
       "    \"minScale\": \"18489297.737236001\",\n",
       "    \"schemaLockingEnabled\": \"true\",\n",
       "    \"useLocalCacheDir\": \"true\",\n",
       "    \"outputDir\": \"E:\\\\GIS\\\\arcgisserver\\\\directories\\\\arcgisoutput\",\n",
       "    \"maxScale\": \"577790.55428899999\",\n",
       "    \"filePath\": \"E:\\\\GIS\\\\arcgisserver\\\\directories\\\\arcgissystem\\\\arcgisinput\\\\Argentina_Poblaci\\u00f3n_Viviendas_Hogares.MapServer\\\\extracted\\\\p20\\\\Argentina_Poblaci\\u00f3n_Viviendas_Hogares.msd\",\n",
       "    \"supportedImageReturnTypes\": \"URL\",\n",
       "    \"maxSampleSize\": \"100000\",\n",
       "    \"clientCachingAllowed\": \"true\",\n",
       "    \"userName\": \"portalOD_LA\",\n",
       "    \"textAntialiasingMode\": \"Force\",\n",
       "    \"maxExportTilesCount\": \"100000\",\n",
       "    \"ignoreCache\": \"false\",\n",
       "    \"tilingScheme\": \"0\",\n",
       "    \"maxBufferCount\": \"100\",\n",
       "    \"dateFieldsTimezoneID\": \"\",\n",
       "    \"disableIdentifyRelates\": \"false\",\n",
       "    \"portalURL\": \"https://soluciones.aeroterra.com/portal/\",\n",
       "    \"virtualCacheDir\": \"/rest/directories/arcgiscache\",\n",
       "    \"dateFieldsRespectsDayLightSavingTime\": \"false\"\n",
       "  },\n",
       "  \"portalProperties\": {\n",
       "    \"isHosted\": false,\n",
       "    \"portalItems\": [\n",
       "      {\n",
       "        \"itemID\": \"14912cf9cb1841cca8dae92211323dd0\",\n",
       "        \"type\": \"MapServer\"\n",
       "      },\n",
       "      {\n",
       "        \"itemID\": \"d3808adb4ecd4b61bf44fcac4b2c9277\",\n",
       "        \"type\": \"FeatureServer\"\n",
       "      }\n",
       "    ]\n",
       "  },\n",
       "  \"extensions\": [\n",
       "    {\n",
       "      \"typeName\": \"NetworkDiagramServer\",\n",
       "      \"capabilities\": \"\",\n",
       "      \"enabled\": \"false\",\n",
       "      \"maxUploadFileSize\": 0,\n",
       "      \"allowedUploadFileTypes\": \"\",\n",
       "      \"properties\": {}\n",
       "    },\n",
       "    {\n",
       "      \"typeName\": \"NAServer\",\n",
       "      \"capabilities\": \"null\",\n",
       "      \"enabled\": \"false\",\n",
       "      \"maxUploadFileSize\": 0,\n",
       "      \"allowedUploadFileTypes\": \"\",\n",
       "      \"properties\": {\n",
       "        \"locationAllocation_ForceHierarchyBeyondDistanceUnits\": \"esriMeters\",\n",
       "        \"defaultOutputGeometryPrecisionUnits\": \"esriMeters\",\n",
       "        \"locationAllocation_MaxBarriers\": \"\",\n",
       "        \"oDCostMatrix_ForceHierarchyBeyondDistanceUnits\": \"esriMeters\",\n",
       "        \"oDCostMatrix_MaxOrigins\": \"\",\n",
       "        \"vRP_ForceHierarchyBeyondDistanceUnits\": \"esriMeters\",\n",
       "        \"oDCostMatrix_ForceHierarchyBeyondDistance\": \"\",\n",
       "        \"route_ForceHierarchyBeyondDistanceUnits\": \"esriMeters\",\n",
       "        \"route_MaxFeaturesInLineBarriers\": \"\",\n",
       "        \"allowSaveLayerOnServer\": \"true\",\n",
       "        \"vRP_ForceHierarchyBeyondDistance\": \"\",\n",
       "        \"serviceArea_MaxBreakValue_Length\": \"\",\n",
       "        \"closestFacility_MaxIncidents\": \"\",\n",
       "        \"serviceArea_ForceHierarchyBeyondDistance\": \"\",\n",
       "        \"closestFacility_MaxFacilities\": \"\",\n",
       "        \"closestFacility_MaxFacilitiesToFind\": \"\",\n",
       "        \"serviceArea_MaxBreakValue_Other\": \"\",\n",
       "        \"saveLayerOnServerWhenError\": \"false\",\n",
       "        \"oDCostMatrix_MaxDestinations\": \"\",\n",
       "        \"serviceArea_ForceHierarchyBeyondTime\": \"\",\n",
       "        \"oDCostMatrix_MaxDestinationsToFind\": \"\",\n",
       "        \"route_MaxFeaturesInPolygonBarriers\": \"\",\n",
       "        \"oDCostMatrix_MaxBarriers\": \"\",\n",
       "        \"oDCostMatrix_MaxFeaturesInLineBarriers\": \"\",\n",
       "        \"serviceArea_MaxFacilities\": \"\",\n",
       "        \"closestFacility_MaxBarriers\": \"\",\n",
       "        \"serviceArea_ForceHierarchyBeyondDistanceUnits\": \"esriMeters\",\n",
       "        \"oDCostMatrix_MaxFeaturesInPolygonBarriers\": \"\",\n",
       "        \"route_ForceHierarchyBeyondDistance\": \"\",\n",
       "        \"route_AllowTimeWindows\": \"true\",\n",
       "        \"serviceArea_MaxFeaturesInLineBarriers\": \"\",\n",
       "        \"serviceArea_ForceHierarchyBeyondOther\": \"\",\n",
       "        \"saveLayerOnServerWhenDebugging\": \"false\",\n",
       "        \"serviceArea_MaxBreakValue_LengthUnits\": \"esriMeters\",\n",
       "        \"vRP_MaxFeaturesInLineBarriers\": \"\",\n",
       "        \"locationAllocation_MaxFeaturesInLineBarriers\": \"\",\n",
       "        \"locationAllocation_MaxFacilities\": \"\",\n",
       "        \"route_MaxStops\": \"\",\n",
       "        \"route_MaxBarriers\": \"\",\n",
       "        \"closestFacility_ForceHierarchyBeyondDistance\": \"\",\n",
       "        \"serviceArea_ForceHierarchyBeyondTimeUnits\": \"esriTimeUnitsSeconds\",\n",
       "        \"serviceArea_MaxFeaturesInPolygonBarriers\": \"\",\n",
       "        \"locationAllocation_ForceHierarchyBeyondDistance\": \"\",\n",
       "        \"closestFacility_MaxFeaturesInPolygonBarriers\": \"\",\n",
       "        \"defaultOutputGeometryPrecision\": \"\",\n",
       "        \"vRP_MaxOrders\": \"\",\n",
       "        \"locationAllocation_MaxFeaturesInPolygonBarriers\": \"\",\n",
       "        \"closestFacility_MaxFeaturesInLineBarriers\": \"\",\n",
       "        \"serviceArea_MaxBreakValue_Time\": \"\",\n",
       "        \"nALayerDir\": \"E:\\\\GIS\\\\arcgisserver\\\\directories\\\\arcgisoutput\",\n",
       "        \"serviceArea_MaxBreakValue_TimeUnits\": \"esriTimeUnitsMinutes\",\n",
       "        \"vRP_MaxFeaturesInPolygonBarriers\": \"\",\n",
       "        \"vRP_MaxBarriers\": \"\",\n",
       "        \"closestFacility_ForceHierarchyBeyondDistanceUnits\": \"esriMeters\",\n",
       "        \"vRP_MaxRoutes\": \"\",\n",
       "        \"ignoreNetworkLocationFields\": \"false\",\n",
       "        \"serviceArea_MaxBarriers\": \"\",\n",
       "        \"locationAllocation_MaxDemandPoints\": \"\"\n",
       "      }\n",
       "    },\n",
       "    {\n",
       "      \"typeName\": \"LRServer\",\n",
       "      \"capabilities\": \"\",\n",
       "      \"enabled\": \"false\",\n",
       "      \"maxUploadFileSize\": 0,\n",
       "      \"allowedUploadFileTypes\": \"\",\n",
       "      \"properties\": {}\n",
       "    },\n",
       "    {\n",
       "      \"typeName\": \"VersionManagementServer\",\n",
       "      \"capabilities\": \"Create,Delete,VersionInfos,LockInfos,PurgeLock,StartEditing,StopEditing,StartReading,StopReading,DeleteForwardEdits,Alter,Differences,Reconcile,Conflicts,InspectConflicts,Post\",\n",
       "      \"enabled\": \"false\",\n",
       "      \"maxUploadFileSize\": 0,\n",
       "      \"allowedUploadFileTypes\": \"\",\n",
       "      \"properties\": {}\n",
       "    },\n",
       "    {\n",
       "      \"typeName\": \"WMSServer\",\n",
       "      \"capabilities\": \"GetCapabilities,GetLegendGraphic,GetSchemaExtension,GetFeatureInfo,GetMap,GetStyles\",\n",
       "      \"enabled\": \"false\",\n",
       "      \"maxUploadFileSize\": 0,\n",
       "      \"allowedUploadFileTypes\": \"\",\n",
       "      \"properties\": {\n",
       "        \"country\": \"\",\n",
       "        \"fees\": \"\",\n",
       "        \"pathToCustomSLDFile\": \"\",\n",
       "        \"city\": \"\",\n",
       "        \"listSupportedCRS\": \"\",\n",
       "        \"inheritLayerNames\": \"false\",\n",
       "        \"contactPerson\": \"\",\n",
       "        \"onlineResource\": \"https://soluciones.aeroterra.com/server/services/Argentina_Poblaci\\u00f3n_Viviendas_Hogares/MapServer/WMSServer\",\n",
       "        \"title\": \"Argentina_Poblaci\\u00f3n_Viviendas_Hogares\",\n",
       "        \"pathToCustomGetCapabilitiesFiles\": \"\",\n",
       "        \"keyword\": \"\",\n",
       "        \"accessConstraints\": \"\",\n",
       "        \"contactFacsimileTelephone\": \"\",\n",
       "        \"contactOrganization\": \"\",\n",
       "        \"reaspect\": \"false\",\n",
       "        \"address\": \"\",\n",
       "        \"customGetCapabilities\": \"false\",\n",
       "        \"addressType\": \"\",\n",
       "        \"contactPosition\": \"\",\n",
       "        \"abstract\": \"\",\n",
       "        \"contactElectronicMailAddress\": \"\",\n",
       "        \"stateOrProvince\": \"\",\n",
       "        \"identifyToleranceInPixel\": \"\",\n",
       "        \"name\": \"WMS\",\n",
       "        \"postCode\": \"\",\n",
       "        \"contactVoiceTelephone\": \"\"\n",
       "      }\n",
       "    },\n",
       "    {\n",
       "      \"typeName\": \"UtilityNetworkServer\",\n",
       "      \"capabilities\": \"Trace,ValidateNetworkTopology,DisableSubnetworkController,EnableSubnetworkController,UpdateSubnetwork,ExportSubnetwork,QueryNetworkMoments,UpdateIsConnected,EnableTopology,DisableTopology,SynthesizeAssociationGeometries\",\n",
       "      \"enabled\": \"false\",\n",
       "      \"maxUploadFileSize\": 0,\n",
       "      \"allowedUploadFileTypes\": \"\",\n",
       "      \"properties\": {}\n",
       "    },\n",
       "    {\n",
       "      \"typeName\": \"FeatureServer\",\n",
       "      \"capabilities\": \"Create,Query,Update,Delete,Uploads,Editing\",\n",
       "      \"enabled\": \"true\",\n",
       "      \"maxUploadFileSize\": 0,\n",
       "      \"allowedUploadFileTypes\": \"\",\n",
       "      \"properties\": {\n",
       "        \"enableZDefaults\": \"false\",\n",
       "        \"allowUpdateWithoutMValues\": \"false\",\n",
       "        \"allowGeometryUpdates\": \"true\",\n",
       "        \"editorTrackingTimeInUTC\": \"true\",\n",
       "        \"allowOthersToQuery\": \"true\",\n",
       "        \"enableOwnershipBasedAccessControl\": \"false\",\n",
       "        \"onlyAllowTrueCurveUpdatesByTrueCurveClients\": \"false\",\n",
       "        \"editorTrackingRespectsDayLightSavingTime\": \"false\",\n",
       "        \"syncEnabled\": \"false\",\n",
       "        \"syncVersionCreationRule\": \"versionPerDownloadedMap\",\n",
       "        \"allowOthersToUpdate\": \"false\",\n",
       "        \"zDefaultValue\": \"0\",\n",
       "        \"allowTrueCurvesUpdates\": \"false\",\n",
       "        \"xssPreventionEnabled\": \"true\",\n",
       "        \"allowOthersToDelete\": \"false\",\n",
       "        \"editorTrackingTimeZoneID\": \"UTC\",\n",
       "        \"realm\": \"\"\n",
       "      }\n",
       "    }\n",
       "  ],\n",
       "  \"frameworkProperties\": {},\n",
       "  \"datasets\": []\n",
       "}"
      ]
     },
     "execution_count": 48,
     "metadata": {},
     "output_type": "execute_result"
    }
   ],
   "source": [
    "servicio.properties"
   ]
  },
  {
   "cell_type": "code",
   "execution_count": null,
   "metadata": {
    "collapsed": true
   },
   "outputs": [],
   "source": []
  },
  {
   "cell_type": "code",
   "execution_count": null,
   "metadata": {
    "collapsed": true
   },
   "outputs": [],
   "source": []
  },
  {
   "cell_type": "code",
   "execution_count": null,
   "metadata": {
    "collapsed": true
   },
   "outputs": [],
   "source": []
  }
 ],
 "metadata": {
  "kernelspec": {
   "display_name": "Python 3",
   "language": "python",
   "name": "python3"
  },
  "language_info": {
   "codemirror_mode": {
    "name": "ipython",
    "version": 3
   },
   "file_extension": ".py",
   "mimetype": "text/x-python",
   "name": "python",
   "nbconvert_exporter": "python",
   "pygments_lexer": "ipython3",
   "version": "3.6.8"
  }
 },
 "nbformat": 4,
 "nbformat_minor": 2
}
