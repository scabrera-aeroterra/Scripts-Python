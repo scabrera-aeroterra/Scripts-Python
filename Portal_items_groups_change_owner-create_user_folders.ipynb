{
 "cells": [
  {
   "cell_type": "markdown",
   "metadata": {},
   "source": [
    "# Conectar al Portal/AGOL\n",
    "    Para AGOL ingresar URL de la organización Ej. \"https://asa-sec.maps.arcgis.com\"\n",
    "    Para Portal, URL del Portal /webadaptor Ej \"https://demo.aeroterra.com/portal\""
   ]
  },
  {
   "cell_type": "code",
   "execution_count": 1,
   "metadata": {
    "collapsed": true
   },
   "outputs": [],
   "source": [
    "from arcgis.gis import *\n",
    "from IPython.display import display\n",
    "from getpass import getpass"
   ]
  },
  {
   "cell_type": "code",
   "execution_count": 4,
   "metadata": {},
   "outputs": [
    {
     "name": "stdout",
     "output_type": "stream",
     "text": [
      "Ingrese URL de portal:http://aeroterra.maps.arcgis.com\n",
      "Ingrese usuario administrador:AGOL_ASA\n",
      "········\n"
     ]
    }
   ],
   "source": [
    "portalurl=input(\"Ingrese URL de portal:\")\n",
    "user=input(\"Ingrese usuario administrador:\")\n",
    "portalpassword = getpass()\n",
    "gis = GIS(portalurl, user, portalpassword)"
   ]
  },
  {
   "cell_type": "code",
   "execution_count": 5,
   "metadata": {
    "collapsed": true
   },
   "outputs": [],
   "source": [
    "gis = GIS(portalurl, user, portalpassword)"
   ]
  },
  {
   "cell_type": "markdown",
   "metadata": {},
   "source": [
    "# Ingresar el usuario origen y el nuevo"
   ]
  },
  {
   "cell_type": "code",
   "execution_count": 6,
   "metadata": {},
   "outputs": [
    {
     "name": "stdout",
     "output_type": "stream",
     "text": [
      "Ingrese el usuario de origen:rsolorzano_aeroterra\n",
      "Ingrese ahora el de destino:AGOL_ASA\n"
     ]
    }
   ],
   "source": [
    "orig_userid=input(\"Ingrese el usuario de origen:\")\n",
    "dest_userid=input(\"Ingrese ahora el de destino:\")\n",
    "orig_user=gis.users.get(orig_userid)\n",
    "dest_user=gis.users.get(dest_userid)\n",
    "orig_userid=orig_user['username']\n",
    "dest_userid=dest_user['username']"
   ]
  },
  {
   "cell_type": "code",
   "execution_count": 7,
   "metadata": {},
   "outputs": [
    {
     "name": "stdout",
     "output_type": "stream",
     "text": [
      "rsolorzano_aeroterra\n"
     ]
    },
    {
     "data": {
      "text/html": [
       "<div class=\"9item_container\" style=\"height: auto; overflow: hidden; border: 1px solid #cfcfcf; border-radius: 2px; background: #f6fafa; line-height: 1.21429em; padding: 10px;\">\n",
       "                    <div class=\"item_left\" style=\"width: 210px; float: left;\">\n",
       "                       <a href='http://aeroterra.maps.arcgis.com/home/user.html?user=rsolorzano_aeroterra' target='_blank'>\n",
       "                        <img src='data:image/png;base64,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' width='200' height='133' class=\"itemThumbnail\">\n",
       "                       </a>\n",
       "                    </div>\n",
       "\n",
       "                    <div class=\"item_right\" style=\"float: none; width: auto; overflow: hidden;\">\n",
       "                        <a href='http://aeroterra.maps.arcgis.com/home/user.html?user=rsolorzano_aeroterra' target='_blank'><b>Roldan Solorzano Cobarrubia</b>\n",
       "                        </a>\n",
       "                        <br/><br/><b>Bio</b>: Roldan Solórzano Cobarrubia, Agrimensor e Ingeniero Geodesta, Analista GIS, AEROTERRA S.A. Implementación de Sistemas de Información Geográfica en la Argentina y Uruguay. Miembro de la gerencia de servicios GIS, conformando un equipo de trabajo que brinda soporte técnico y funcional a empresas líderes. Gestión y participación en proyectos de desarrollo e implementación. Participación en seminarios y conferencias sobre nuevas tecnologías asociadas con los Sistemas de Información Geográficos y productos afines. rsolorzano@aeroterra.com  http://aeroterra.com/ \n",
       "                        <br/><b>First Name</b>: Roldan\n",
       "                        <br/><b>Last Name</b>: Solorzano Cobarrubia\n",
       "                        <br/><b>Username</b>: rsolorzano_aeroterra\n",
       "                        <br/><b>Joined</b>: May 16, 2017\n",
       "\n",
       "                    </div>\n",
       "                </div>\n",
       "                "
      ],
      "text/plain": [
       "<User username:rsolorzano_aeroterra>"
      ]
     },
     "execution_count": 7,
     "metadata": {},
     "output_type": "execute_result"
    }
   ],
   "source": [
    "print(orig_userid)\n",
    "orig_user"
   ]
  },
  {
   "cell_type": "code",
   "execution_count": 8,
   "metadata": {},
   "outputs": [
    {
     "name": "stdout",
     "output_type": "stream",
     "text": [
      "AGOL_ASA\n"
     ]
    },
    {
     "data": {
      "text/plain": [
       "'AGOL_ASA'"
      ]
     },
     "execution_count": 8,
     "metadata": {},
     "output_type": "execute_result"
    }
   ],
   "source": [
    "print(dest_userid.upper())\n",
    "dest_user['username']"
   ]
  },
  {
   "cell_type": "markdown",
   "metadata": {},
   "source": [
    "# Reasignación de ownership de grupos"
   ]
  },
  {
   "cell_type": "code",
   "execution_count": 9,
   "metadata": {},
   "outputs": [
    {
     "name": "stdout",
     "output_type": "stream",
     "text": [
      "============================================================================================\n",
      "Mapas Ofrecidos  / Owner:  Esri_cy_AR\n",
      "============================================================================================\n",
      "Se asigno el usuario  AGOL_ASA  al grupo\n",
      "============================================================================================\n",
      "prueba2  / Owner:  rsolorzano_aeroterra\n",
      "============================================================================================\n",
      "Owner reasignado a:  AGOL_ASA\n",
      "============================================================================================\n",
      "Contenido Brindado  / Owner:  Esri_cy_UY\n",
      "============================================================================================\n",
      "Se asigno el usuario  AGOL_ASA  al grupo\n",
      "============================================================================================\n",
      "Mapas Brindados  / Owner:  Esri_cy_UY\n",
      "============================================================================================\n",
      "Se asigno el usuario  AGOL_ASA  al grupo\n",
      "============================================================================================\n",
      "Contenido Ofrecido  / Owner:  Esri_cy_AR\n",
      "============================================================================================\n",
      "Se asigno el usuario  AGOL_ASA  al grupo\n",
      "============================================================================================\n",
      "Prueba3  / Owner:  rsolorzano_aeroterra\n",
      "============================================================================================\n",
      "Owner reasignado a:  AGOL_ASA\n"
     ]
    }
   ],
   "source": [
    "usergroups = orig_user['groups']\n",
    "for group in usergroups:\n",
    "    grp = gis.groups.get(group['id'])\n",
    "    print (\"============================================================================================\")\n",
    "    print (grp['title'],\" / Owner: \",grp['owner'])\n",
    "    print (\"============================================================================================\")\n",
    "    if (grp.owner == orig_userid):\n",
    "        grp.reassign_to(dest_userid)\n",
    "        print(\"Owner reasignado a: \",dest_userid)\n",
    "    else:\n",
    "        if gis.users.search(grp.owner):\n",
    "            grp.add_users(dest_userid)\n",
    "            print (\"Se asigno el usuario \",dest_userid,\" al grupo\")"
   ]
  },
  {
   "cell_type": "markdown",
   "metadata": {},
   "source": [
    "# Reasignacion de ownership de items"
   ]
  },
  {
   "cell_type": "code",
   "execution_count": 10,
   "metadata": {},
   "outputs": [
    {
     "name": "stdout",
     "output_type": "stream",
     "text": [
      "============================================================================================\n",
      "Root folder\n",
      "============================================================================================\n",
      "Bicisendas Capital Federal  /  68cdac2b352a46918dd4190b31deea88\n",
      "Departamentos Argentina  /  ce25b72e2df140859ad79fa885af12e0\n",
      "Radios_censales  /  bedea24b0968439f9c7d9e7f62a58af8\n",
      "Escuelas_Argentina  /  94f417e6cd804423ac30f80ffd4e27eb\n",
      "============================================================================================\n",
      "BA - Application Data\n",
      "============================================================================================\n",
      "BA Web App Migration Data  /  dea256dbe0864ef38ea65d0f14d33e36\n",
      "BA Web App Preferences  /  1d0867ad49fb4261b9ef20416c2da523\n",
      "BA Web App Custom Symbols  /  4652b762a714416b9af8abf83c1aecce\n",
      "BA Web App Custom Color Ramps  /  f44eb42ddebe49108a79f6e78defd25c\n",
      "BA Preferences  /  a8e74def671741f2ac82b8522f1be248\n",
      "BA Web App Variable Manager Data  /  03a982fbc13a4a62a170a6ec8dc13ae2\n",
      "BA Web App Suitability Analysis Data  /  5ae98e3c420442f8be67ce88061bf7a0\n",
      "BA Web App Statistical Data Collections Data  /  95e3ba15a16c4113983f3e3be5fab00b\n",
      "BA Web App Smart Map Search Data  /  e80362d948be4ce183616163fa387467\n",
      "BA Web App Comparison Reports Data  /  fa42c8e71c8045548e38fbfab87439c9\n",
      "BA Web App Favorite Reports Data  /  cb9695af4b374a07a857e031d6e73f67\n",
      "My Project Layers Preferences  /  a308ae98e5f542a2be390cff5ada1a98\n",
      "Prueba_1 Layers Preferences  /  384ef89341e544a08ce16a767f8549a2\n",
      "BA Web App Color Coded Maps Data  /  ee5792784e3248f992594cec562abdfc\n",
      "BA Web App Template Editor Report Themes Data  /  5cc96b40ebc945d094bb828ca138493f\n",
      "prueba2 Map Data  /  1f52a7bbe14d48f5955c208b74181b3f\n",
      "prueba2 Preferences  /  a31cce39655843ca8fa9ecae50fa41fe\n",
      "prueba2 Layers Preferences  /  1cd3116f00314e29bffc4ad87cc73ce6\n",
      "Prueba3 Preferences  /  60e09b826906419ba15388a9a589183a\n",
      "Prueba3 Map Data  /  edeb32c5fae547e3b900e9fb465cb279\n",
      "Prueba3 Layers Preferences  /  a29672d782e94dee935f337bc9456212\n",
      "============================================================================================\n",
      "BA - Project Data\n",
      "============================================================================================\n",
      "My Project Layers  /  2d435b8de2fb4452a0b4716885491f74\n",
      "Prueba_1 Layers  /  2cb54a77bc7d4cb7b7cd77c001d5950f\n",
      "prueba2 Layers  /  40281b2c61d2435eaf9333c50b9da4a4\n",
      "Prueba3 Layers  /  b0ca39bafab64cc9b2b8fe7fb51421ef\n",
      "============================================================================================\n",
      "Custom Data\n",
      "============================================================================================\n",
      "Población  /  fce7ffcaa85641eeaa09fb950b539b02\n",
      "Sueldos  /  fa2a66fe63f9421db70ef813c7ff24b2\n",
      "Sueldos  /  1cf64c578fb14f4c9622c90a1ebd2f72\n",
      "radios  /  254e45a14f0d4185a7e48c6631acafe0\n",
      "Radios Censales  /  af3b41d9386a479bb1da32fccb1cac92\n",
      "============================================================================================\n",
      "Living Atlas\n",
      "============================================================================================\n",
      "Aglomerado Urbano de Córdoba - Nodo Manfredi  /  9b86a2ac196c461189e6df5e1c6000a0\n",
      "Nodo Manfredi, Córdoba - INTA  /  2e823884b8774c7eab81b7a087f62e22\n",
      "La Pampa - INTA  /  83915298d7524510a200f9e168e25330\n",
      "============================================================================================\n",
      "Report Templates\n",
      "============================================================================================\n",
      "Key Facts (Esri infographic) US 5.6.4.3  /  4a45463d1dcd4a02821a4d2edbadd7ef\n"
     ]
    }
   ],
   "source": [
    "usercontent = orig_user.items()\n",
    "folders = orig_user.folders\n",
    "print (\"============================================================================================\")\n",
    "print (\"Root folder\")\n",
    "print (\"============================================================================================\")\n",
    "gis.content.create_folder(orig_userid + \"_\" + \"root\", dest_userid)\n",
    "for item in usercontent:\n",
    "    print (item.title,\" / \", item.id)\n",
    "    try:\n",
    "        item.reassign_to(dest_userid, target_folder=orig_userid + \"_\" + \"root\")\n",
    "    except Exception as e:\n",
    "        if hasattr(e, 'message'):\n",
    "            print(e.message)\n",
    "        else:\n",
    "            print(e)\n",
    "\n",
    "for folder in folders:\n",
    "    print (\"============================================================================================\")\n",
    "    print (folder['title'])\n",
    "    print (\"============================================================================================\")\n",
    "    gis.content.create_folder(orig_userid + \"_\" + folder['title'], dest_userid)\n",
    "    folderitems = orig_user.items(folder=folder['title'])\n",
    "    for item in folderitems:\n",
    "        print (item.title,\" / \", item.id)\n",
    "        try:\n",
    "            item.reassign_to(dest_userid, target_folder=orig_userid + \"_\" + folder['title'])\n",
    "        except Exception as e:\n",
    "            if hasattr(e, 'message'):\n",
    "                print(e.message)\n",
    "            else:\n",
    "                print(e)"
   ]
  },
  {
   "cell_type": "code",
   "execution_count": null,
   "metadata": {
    "collapsed": true
   },
   "outputs": [],
   "source": []
  }
 ],
 "metadata": {
  "kernelspec": {
   "display_name": "Python 3",
   "language": "python",
   "name": "python3"
  },
  "language_info": {
   "codemirror_mode": {
    "name": "ipython",
    "version": 3
   },
   "file_extension": ".py",
   "mimetype": "text/x-python",
   "name": "python",
   "nbconvert_exporter": "python",
   "pygments_lexer": "ipython3",
   "version": "3.6.8"
  }
 },
 "nbformat": 4,
 "nbformat_minor": 2
}
