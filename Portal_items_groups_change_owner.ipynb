{
 "cells": [
  {
   "cell_type": "markdown",
   "metadata": {},
   "source": [
    "# Conectar al Portal/AGOL\n",
    "    Para AGOL ingresar URL de la organización Ej. \"https://asa-sec.maps.arcgis.com\"\n",
    "    Para Portal, URL del Portal /webadaptor Ej \"https://demo.aeroterra.com/portal\""
   ]
  },
  {
   "cell_type": "code",
   "execution_count": null,
   "metadata": {
    "collapsed": true
   },
   "outputs": [],
   "source": [
    "from arcgis.gis import *\n",
    "from IPython.display import display\n",
    "from getpass import getpass"
   ]
  },
  {
   "cell_type": "code",
   "execution_count": null,
   "metadata": {},
   "outputs": [],
   "source": [
    "portalurl=input(\"Ingrese URL de portal:\")\n",
    "user=input(\"Ingrese usuario administrador:\")\n",
    "portalpassword = getpass()"
   ]
  },
  {
   "cell_type": "code",
   "execution_count": null,
   "metadata": {
    "collapsed": true
   },
   "outputs": [],
   "source": [
    "gis = GIS(portalurl, user, portalpassword)"
   ]
  },
  {
   "cell_type": "markdown",
   "metadata": {},
   "source": [
    "# Ingresar el usuario origen y el nuevo"
   ]
  },
  {
   "cell_type": "code",
   "execution_count": null,
   "metadata": {},
   "outputs": [],
   "source": [
    "orig_userid=input(\"Ingrese el usuario de origen:\")\n",
    "dest_userid=input(\"Ingrese ahora el de destino:\")\n",
    "orig_user=gis.users.get(orig_userid)\n",
    "dest_user=gis.users.get(dest_userid)\n",
    "orig_userid=orig_user['username']\n",
    "dest_userid=dest_user['username']"
   ]
  },
  {
   "cell_type": "code",
   "execution_count": null,
   "metadata": {},
   "outputs": [],
   "source": [
    "print(orig_userid)\n",
    "orig_user"
   ]
  },
  {
   "cell_type": "code",
   "execution_count": null,
   "metadata": {},
   "outputs": [],
   "source": [
    "print(dest_userid.upper())\n",
    "dest_user['username']"
   ]
  },
  {
   "cell_type": "markdown",
   "metadata": {},
   "source": [
    "# Reasignación de ownership de grupos"
   ]
  },
  {
   "cell_type": "code",
   "execution_count": null,
   "metadata": {},
   "outputs": [],
   "source": [
    "usergroups = orig_user['groups']\n",
    "for group in usergroups:\n",
    "    grp = gis.groups.get(group['id'])\n",
    "    print (\"============================================================================================\")\n",
    "    print (grp['title'],\" / Owner: \",grp['owner'])\n",
    "    print (\"============================================================================================\")\n",
    "    if (grp.owner == orig_userid):\n",
    "        grp.reassign_to(dest_userid)\n",
    "        print(\"Owner reasignado a: \",dest_userid)\n",
    "    else:\n",
    "        if gis.users.search(grp.owner):\n",
    "            grp.add_users(dest_userid)\n",
    "            print (\"Se asigno el usuario \",dest_userid,\" al grupo\")"
   ]
  },
  {
   "cell_type": "markdown",
   "metadata": {},
   "source": [
    "# Reasignacion de ownership de items"
   ]
  },
  {
   "cell_type": "code",
   "execution_count": null,
   "metadata": {
    "collapsed": true
   },
   "outputs": [],
   "source": [
    "usercontent = orig_user.items()\n",
    "folders = orig_user.folders\n",
    "print (\"============================================================================================\")\n",
    "print (\"Root folder\")\n",
    "print (\"============================================================================================\")\n",
    "for item in usercontent:\n",
    "    print (item.title,\" / \", item.id)\n",
    "    try:\n",
    "        item.reassign_to(dest_userid)\n",
    "    except Exception as e:\n",
    "        if hasattr(e, 'message'):\n",
    "            print(e.message)\n",
    "        else:\n",
    "            print(e)\n",
    "\n",
    "for folder in folders:\n",
    "    print (\"============================================================================================\")\n",
    "    print (folder['title'])\n",
    "    print (\"============================================================================================\")\n",
    "    gis.content.create_folder(folder['title'], dest_userid)\n",
    "    folderitems = orig_user.items(folder=folder['title'])\n",
    "    for item in folderitems:\n",
    "        print (item.title,\" / \", item.id)\n",
    "        try:\n",
    "            item.reassign_to(dest_userid, target_folder=folder['title'])\n",
    "        except Exception as e:\n",
    "            if hasattr(e, 'message'):\n",
    "                print(e.message)\n",
    "            else:\n",
    "                print(e)"
   ]
  },
  {
   "cell_type": "code",
   "execution_count": null,
   "metadata": {
    "collapsed": true
   },
   "outputs": [],
   "source": []
  }
 ],
 "metadata": {
  "kernelspec": {
   "display_name": "Python 3",
   "language": "python",
   "name": "python3"
  },
  "language_info": {
   "codemirror_mode": {
    "name": "ipython",
    "version": 3
   },
   "file_extension": ".py",
   "mimetype": "text/x-python",
   "name": "python",
   "nbconvert_exporter": "python",
   "pygments_lexer": "ipython3",
   "version": "3.6.8"
  }
 },
 "nbformat": 4,
 "nbformat_minor": 2
}
