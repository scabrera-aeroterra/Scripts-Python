{
 "cells": [
  {
   "cell_type": "code",
   "execution_count": null,
   "metadata": {
    "collapsed": true
   },
   "outputs": [],
   "source": [
    "from arcgis.gis import *\n",
    "from IPython.display import display\n",
    "from getpass import getpass\n",
    "from time import *"
   ]
  },
  {
   "cell_type": "code",
   "execution_count": null,
   "metadata": {},
   "outputs": [],
   "source": [
    "portalurl=input(\"Ingrese URL de portal:\")\n",
    "user=input(\"Ingrese usuario administrador:\")\n",
    "portalpassword = getpass(prompt=\"Ingrese la contraseña de \" + user)"
   ]
  },
  {
   "cell_type": "code",
   "execution_count": null,
   "metadata": {
    "collapsed": true
   },
   "outputs": [],
   "source": [
    "gis = GIS(portalurl, user, portalpassword)"
   ]
  },
  {
   "cell_type": "code",
   "execution_count": null,
   "metadata": {},
   "outputs": [],
   "source": [
    "gisservers=gis.admin.servers.list()"
   ]
  },
  {
   "cell_type": "code",
   "execution_count": null,
   "metadata": {
    "scrolled": true
   },
   "outputs": [],
   "source": [
    "gisservers"
   ]
  },
  {
   "cell_type": "code",
   "execution_count": null,
   "metadata": {},
   "outputs": [],
   "source": [
    "gisserver=gisservers[3]"
   ]
  },
  {
   "cell_type": "code",
   "execution_count": null,
   "metadata": {},
   "outputs": [],
   "source": [
    "folderlist=gisserver.services.folders"
   ]
  },
  {
   "cell_type": "markdown",
   "metadata": {},
   "source": [
    "Modificar para manipular el servicio"
   ]
  },
  {
   "cell_type": "code",
   "execution_count": null,
   "metadata": {},
   "outputs": [],
   "source": [
    "for folder in folderlist:\n",
    "    if ((folder != \"System\") and (folder != \"Utilities\")and (folder != \"Hosted\")):):\n",
    "        print (folder)\n",
    "        servicelist=gisserver.services.list(folder=folder)\n",
    "        for service in servicelist:\n",
    "            print (service)\n",
    "           # properties=service.properties\n",
    "           # properties.minInstancesPerNode=0\n",
    "           # service.edit(dict(properties))\n",
    "    else:\n",
    "        print (folder + \" ESTA CARPETA NO SE TOCA\")\n",
    "    "
   ]
  },
  {
   "cell_type": "code",
   "execution_count": null,
   "metadata": {
    "collapsed": true
   },
   "outputs": [],
   "source": []
  }
 ],
 "metadata": {
  "kernelspec": {
   "display_name": "Python 3",
   "language": "python",
   "name": "python3"
  },
  "language_info": {
   "codemirror_mode": {
    "name": "ipython",
    "version": 3
   },
   "file_extension": ".py",
   "mimetype": "text/x-python",
   "name": "python",
   "nbconvert_exporter": "python",
   "pygments_lexer": "ipython3",
   "version": "3.6.1"
  }
 },
 "nbformat": 4,
 "nbformat_minor": 2
}
