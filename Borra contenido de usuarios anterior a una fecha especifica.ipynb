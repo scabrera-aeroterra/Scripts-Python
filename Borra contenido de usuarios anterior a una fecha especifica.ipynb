{
 "cells": [
  {
   "cell_type": "code",
   "execution_count": null,
   "metadata": {
    "collapsed": true
   },
   "outputs": [],
   "source": [
    "from arcgis.gis import *\n",
    "from getpass import getpass\n",
    "import datetime"
   ]
  },
  {
   "cell_type": "code",
   "execution_count": null,
   "metadata": {
    "scrolled": true
   },
   "outputs": [],
   "source": [
    "# Poner la fecha hasta la cual (inclusive) se borraran los elementos de los usuarios\n",
    "y = 2019\n",
    "m = 1\n",
    "d = 31\n",
    "\n",
    "date = datetime.datetime(y, m, d,23,59,59)\n",
    "\n",
    "epoch = datetime.datetime.utcfromtimestamp(0)\n",
    "milis = (date-epoch).total_seconds() * 1000"
   ]
  },
  {
   "cell_type": "code",
   "execution_count": null,
   "metadata": {
    "collapsed": true
   },
   "outputs": [],
   "source": [
    "#Login al portal o AGOL\n",
    "portalurl = input(\"Ingrese URL de portal:\")\n",
    "user = input(\"Ingrese usuario administrador:\")\n",
    "portalpassword = getpass()\n",
    "gis = GIS(portalurl, user, portalpassword)"
   ]
  },
  {
   "cell_type": "code",
   "execution_count": null,
   "metadata": {
    "collapsed": true
   },
   "outputs": [],
   "source": [
    "# En usuarios se guarda una lista de la coincidencias con la búsqueda\n",
    "usuarios = gis.users.search(\"alum*\")"
   ]
  },
  {
   "cell_type": "code",
   "execution_count": null,
   "metadata": {
    "collapsed": true
   },
   "outputs": [],
   "source": [
    "for usuario in usuarios:\n",
    "    items = usuario.items() # Items de la carpeta raíz del usuario\n",
    "    for item in items:\n",
    "        if item.modified < milis: # Si el item se modificó antes de la fecha limite\n",
    "            try:\n",
    "                item.protect(enable=False) # Saca la protección contra borrado\n",
    "                item.delete() # Borra el item\n",
    "            except Exception as e:\n",
    "                if hasattr(e, 'message'):\n",
    "                    print(e.message,item.name,item.modified)\n",
    "                else:\n",
    "                    print(e,item.name,item.modified)\n",
    "    \n",
    "    folders = usuario.folders\n",
    "    for folder in folders: # Recorre las carpetas del usuario\n",
    "        items = usuario.items(folder=folder['title']) # Obtiene los items de la carpeta\n",
    "        for item in items:\n",
    "            if item.modified < milis: #Lo mismo que en la carpeta raíz\n",
    "                try:\n",
    "                    item.protect(enable=False)\n",
    "                    item.delete()\n",
    "                except Exception as e:\n",
    "                    if hasattr(e, 'message'):\n",
    "                        print(e.message,item.name,item.modified)\n",
    "                    else:\n",
    "                        print(e,item.name,item.modified)\n"
   ]
  }
 ],
 "metadata": {
  "kernelspec": {
   "display_name": "Python 3",
   "language": "python",
   "name": "python3"
  },
  "language_info": {
   "codemirror_mode": {
    "name": "ipython",
    "version": 3
   },
   "file_extension": ".py",
   "mimetype": "text/x-python",
   "name": "python",
   "nbconvert_exporter": "python",
   "pygments_lexer": "ipython3",
   "version": "3.6.8"
  }
 },
 "nbformat": 4,
 "nbformat_minor": 2
}
