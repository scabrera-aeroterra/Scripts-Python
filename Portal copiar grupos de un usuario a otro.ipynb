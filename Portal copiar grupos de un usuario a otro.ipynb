{
 "cells": [
  {
   "cell_type": "markdown",
   "metadata": {},
   "source": [
    "# Conectar al Portal/AGOL\n",
    "    Para AGOL ingresar URL de la organización Ej. \"https://asa-sec.maps.arcgis.com\"\n",
    "    Para Portal, URL del Portal /webadaptor Ej \"https://demo.aeroterra.com/portal\""
   ]
  },
  {
   "cell_type": "code",
   "execution_count": null,
   "metadata": {
    "collapsed": true
   },
   "outputs": [],
   "source": [
    "from arcgis.gis import *\n",
    "from IPython.display import display\n",
    "from getpass import getpass"
   ]
  },
  {
   "cell_type": "code",
   "execution_count": null,
   "metadata": {},
   "outputs": [],
   "source": [
    "portalurl=input(\"Ingrese URL de portal:\")\n",
    "user=input(\"Ingrese usuario administrador:\")\n",
    "portalpassword = getpass()"
   ]
  },
  {
   "cell_type": "code",
   "execution_count": null,
   "metadata": {
    "collapsed": true
   },
   "outputs": [],
   "source": [
    "gis = GIS(portalurl, user, portalpassword)"
   ]
  },
  {
   "cell_type": "markdown",
   "metadata": {},
   "source": [
    "# Ingresar el usuario origen y el nuevo"
   ]
  },
  {
   "cell_type": "code",
   "execution_count": null,
   "metadata": {},
   "outputs": [],
   "source": [
    "orig_userid=input(\"Ingrese el usuario de origen:\")\n",
    "dest_userid=input(\"Ingrese ahora el de destino:\")\n",
    "orig_user=gis.users.get(orig_userid)\n",
    "dest_user=gis.users.get(dest_userid)\n",
    "orig_userid=orig_user['username']\n",
    "dest_userid=dest_user['username']"
   ]
  },
  {
   "cell_type": "code",
   "execution_count": null,
   "metadata": {},
   "outputs": [],
   "source": [
    "print(orig_userid)\n",
    "orig_user"
   ]
  },
  {
   "cell_type": "code",
   "execution_count": null,
   "metadata": {},
   "outputs": [],
   "source": [
    "print(dest_userid)\n",
    "dest_user"
   ]
  },
  {
   "cell_type": "markdown",
   "metadata": {},
   "source": [
    "# Copia de grupos"
   ]
  },
  {
   "cell_type": "code",
   "execution_count": null,
   "metadata": {},
   "outputs": [],
   "source": [
    "grupos = orig_user['groups']\n",
    "for grupo in grupos:\n",
    "    grp = gis.groups.get(grupo['id'])\n",
    "    print (\"============================================================================================\")\n",
    "    print (grp['title'],\" / Owner: \",grp['owner'])\n",
    "    print (\"============================================================================================\")\n",
    "    if gis.users.search(grp.owner):\n",
    "        grp.add_users(dest_userid)\n",
    "        print (\"Se asigno el usuario \",dest_userid,\" al grupo\")"
   ]
  }
 ],
 "metadata": {
  "kernelspec": {
   "display_name": "Python 3",
   "language": "python",
   "name": "python3"
  },
  "language_info": {
   "codemirror_mode": {
    "name": "ipython",
    "version": 3
   },
   "file_extension": ".py",
   "mimetype": "text/x-python",
   "name": "python",
   "nbconvert_exporter": "python",
   "pygments_lexer": "ipython3",
   "version": "3.6.8"
  }
 },
 "nbformat": 4,
 "nbformat_minor": 2
}
